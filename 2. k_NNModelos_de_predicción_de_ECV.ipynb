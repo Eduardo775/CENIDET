{
  "cells": [
    {
      "cell_type": "markdown",
      "metadata": {
        "id": "view-in-github",
        "colab_type": "text"
      },
      "source": [
        "<a href=\"https://colab.research.google.com/github/Eduardo775/CENIDET/blob/main/2.%20k_NNModelos_de_predicci%C3%B3n_de_ECV.ipynb\" target=\"_parent\"><img src=\"https://colab.research.google.com/assets/colab-badge.svg\" alt=\"Open In Colab\"/></a>"
      ]
    },
    {
      "cell_type": "markdown",
      "metadata": {
        "id": "ZqwxCP5NPkOR"
      },
      "source": [
        "## Predicción de Enfermedades Cardiovasculares"
      ]
    },
    {
      "cell_type": "markdown",
      "metadata": {
        "id": "bL9_qG8TPkOX"
      },
      "source": [
        "### Importamos las bibliotecas"
      ]
    },
    {
      "cell_type": "code",
      "execution_count": null,
      "metadata": {
        "id": "UZ2-2E4XPkOX"
      },
      "outputs": [],
      "source": [
        "import numpy as np\n",
        "import plotly.express as px\n",
        "import pandas as pd\n",
        "import matplotlib.pyplot as plt\n",
        "import seaborn as sns\n",
        "from matplotlib.cm import rainbow\n",
        "%matplotlib inline\n",
        "import warnings\n",
        "warnings.filterwarnings('ignore')"
      ]
    },
    {
      "cell_type": "markdown",
      "metadata": {
        "id": "hSSlWgJHPkOY"
      },
      "source": [
        "Para procesar los datos, aquí las bibliotecas necesarias para dividir el conjunto de datos. Para escalar las características, estoy utilizando StandardScaler."
      ]
    },
    {
      "cell_type": "code",
      "execution_count": null,
      "metadata": {
        "id": "DfvOZ9daPkOZ"
      },
      "outputs": [],
      "source": [
        "\n",
        "from sklearn.model_selection import cross_validate\n",
        "from sklearn.model_selection import train_test_split\n",
        "from sklearn.preprocessing import StandardScaler"
      ]
    },
    {
      "cell_type": "markdown",
      "metadata": {
        "id": "ZDabCIm_PkOZ"
      },
      "source": [
        "Importar los diferentes algoritmos de aprendizaje automático que se utilizarán."
      ]
    },
    {
      "cell_type": "code",
      "execution_count": null,
      "metadata": {
        "id": "yPOcp0UzPkOa"
      },
      "outputs": [],
      "source": [
        "from sklearn.neighbors import KNeighborsClassifier  #K Neighbors Classifier\n",
        "\n",
        "## Técnica de ajuste de hiperparametros\n",
        "from sklearn.model_selection import GridSearchCV\n",
        "## Métricas para la evaluación del desempeño\n",
        "from sklearn.metrics import accuracy_score, confusion_matrix, classification_report"
      ]
    },
    {
      "cell_type": "markdown",
      "metadata": {
        "id": "paA3VftxPkOb"
      },
      "source": [
        "### Leer el conjunto de datos"
      ]
    },
    {
      "cell_type": "code",
      "execution_count": 297,
      "metadata": {
        "colab": {
          "base_uri": "https://localhost:8080/",
          "height": 206
        },
        "id": "9UywzjsDPkOb",
        "outputId": "34589c2e-1ace-452c-f50a-bbe75284732d"
      },
      "outputs": [
        {
          "output_type": "execute_result",
          "data": {
            "text/plain": [
              "   age  sex  cp  trestbps  chol  fbs  restecg  thalach  exang  oldpeak  slope  \\\n",
              "0   63    1   1       145   233    1        2      150      0      2.3      3   \n",
              "1   37    1   3       130   250    0        0      187      0      3.5      3   \n",
              "2   41    0   2       130   204    0        2      172      0      1.4      1   \n",
              "3   56    1   2       120   236    0        0      178      0      0.8      1   \n",
              "4   57    0   4       120   354    0        0      163      1      0.6      1   \n",
              "\n",
              "   ca  thal  clase  \n",
              "0   0     6      0  \n",
              "1   0     3      0  \n",
              "2   0     3      0  \n",
              "3   0     3      0  \n",
              "4   0     3      0  "
            ],
            "text/html": [
              "\n",
              "  <div id=\"df-d61f887f-7b0b-45ec-bc8d-8b45caa3affc\">\n",
              "    <div class=\"colab-df-container\">\n",
              "      <div>\n",
              "<style scoped>\n",
              "    .dataframe tbody tr th:only-of-type {\n",
              "        vertical-align: middle;\n",
              "    }\n",
              "\n",
              "    .dataframe tbody tr th {\n",
              "        vertical-align: top;\n",
              "    }\n",
              "\n",
              "    .dataframe thead th {\n",
              "        text-align: right;\n",
              "    }\n",
              "</style>\n",
              "<table border=\"1\" class=\"dataframe\">\n",
              "  <thead>\n",
              "    <tr style=\"text-align: right;\">\n",
              "      <th></th>\n",
              "      <th>age</th>\n",
              "      <th>sex</th>\n",
              "      <th>cp</th>\n",
              "      <th>trestbps</th>\n",
              "      <th>chol</th>\n",
              "      <th>fbs</th>\n",
              "      <th>restecg</th>\n",
              "      <th>thalach</th>\n",
              "      <th>exang</th>\n",
              "      <th>oldpeak</th>\n",
              "      <th>slope</th>\n",
              "      <th>ca</th>\n",
              "      <th>thal</th>\n",
              "      <th>clase</th>\n",
              "    </tr>\n",
              "  </thead>\n",
              "  <tbody>\n",
              "    <tr>\n",
              "      <th>0</th>\n",
              "      <td>63</td>\n",
              "      <td>1</td>\n",
              "      <td>1</td>\n",
              "      <td>145</td>\n",
              "      <td>233</td>\n",
              "      <td>1</td>\n",
              "      <td>2</td>\n",
              "      <td>150</td>\n",
              "      <td>0</td>\n",
              "      <td>2.3</td>\n",
              "      <td>3</td>\n",
              "      <td>0</td>\n",
              "      <td>6</td>\n",
              "      <td>0</td>\n",
              "    </tr>\n",
              "    <tr>\n",
              "      <th>1</th>\n",
              "      <td>37</td>\n",
              "      <td>1</td>\n",
              "      <td>3</td>\n",
              "      <td>130</td>\n",
              "      <td>250</td>\n",
              "      <td>0</td>\n",
              "      <td>0</td>\n",
              "      <td>187</td>\n",
              "      <td>0</td>\n",
              "      <td>3.5</td>\n",
              "      <td>3</td>\n",
              "      <td>0</td>\n",
              "      <td>3</td>\n",
              "      <td>0</td>\n",
              "    </tr>\n",
              "    <tr>\n",
              "      <th>2</th>\n",
              "      <td>41</td>\n",
              "      <td>0</td>\n",
              "      <td>2</td>\n",
              "      <td>130</td>\n",
              "      <td>204</td>\n",
              "      <td>0</td>\n",
              "      <td>2</td>\n",
              "      <td>172</td>\n",
              "      <td>0</td>\n",
              "      <td>1.4</td>\n",
              "      <td>1</td>\n",
              "      <td>0</td>\n",
              "      <td>3</td>\n",
              "      <td>0</td>\n",
              "    </tr>\n",
              "    <tr>\n",
              "      <th>3</th>\n",
              "      <td>56</td>\n",
              "      <td>1</td>\n",
              "      <td>2</td>\n",
              "      <td>120</td>\n",
              "      <td>236</td>\n",
              "      <td>0</td>\n",
              "      <td>0</td>\n",
              "      <td>178</td>\n",
              "      <td>0</td>\n",
              "      <td>0.8</td>\n",
              "      <td>1</td>\n",
              "      <td>0</td>\n",
              "      <td>3</td>\n",
              "      <td>0</td>\n",
              "    </tr>\n",
              "    <tr>\n",
              "      <th>4</th>\n",
              "      <td>57</td>\n",
              "      <td>0</td>\n",
              "      <td>4</td>\n",
              "      <td>120</td>\n",
              "      <td>354</td>\n",
              "      <td>0</td>\n",
              "      <td>0</td>\n",
              "      <td>163</td>\n",
              "      <td>1</td>\n",
              "      <td>0.6</td>\n",
              "      <td>1</td>\n",
              "      <td>0</td>\n",
              "      <td>3</td>\n",
              "      <td>0</td>\n",
              "    </tr>\n",
              "  </tbody>\n",
              "</table>\n",
              "</div>\n",
              "      <button class=\"colab-df-convert\" onclick=\"convertToInteractive('df-d61f887f-7b0b-45ec-bc8d-8b45caa3affc')\"\n",
              "              title=\"Convert this dataframe to an interactive table.\"\n",
              "              style=\"display:none;\">\n",
              "        \n",
              "  <svg xmlns=\"http://www.w3.org/2000/svg\" height=\"24px\"viewBox=\"0 0 24 24\"\n",
              "       width=\"24px\">\n",
              "    <path d=\"M0 0h24v24H0V0z\" fill=\"none\"/>\n",
              "    <path d=\"M18.56 5.44l.94 2.06.94-2.06 2.06-.94-2.06-.94-.94-2.06-.94 2.06-2.06.94zm-11 1L8.5 8.5l.94-2.06 2.06-.94-2.06-.94L8.5 2.5l-.94 2.06-2.06.94zm10 10l.94 2.06.94-2.06 2.06-.94-2.06-.94-.94-2.06-.94 2.06-2.06.94z\"/><path d=\"M17.41 7.96l-1.37-1.37c-.4-.4-.92-.59-1.43-.59-.52 0-1.04.2-1.43.59L10.3 9.45l-7.72 7.72c-.78.78-.78 2.05 0 2.83L4 21.41c.39.39.9.59 1.41.59.51 0 1.02-.2 1.41-.59l7.78-7.78 2.81-2.81c.8-.78.8-2.07 0-2.86zM5.41 20L4 18.59l7.72-7.72 1.47 1.35L5.41 20z\"/>\n",
              "  </svg>\n",
              "      </button>\n",
              "      \n",
              "  <style>\n",
              "    .colab-df-container {\n",
              "      display:flex;\n",
              "      flex-wrap:wrap;\n",
              "      gap: 12px;\n",
              "    }\n",
              "\n",
              "    .colab-df-convert {\n",
              "      background-color: #E8F0FE;\n",
              "      border: none;\n",
              "      border-radius: 50%;\n",
              "      cursor: pointer;\n",
              "      display: none;\n",
              "      fill: #1967D2;\n",
              "      height: 32px;\n",
              "      padding: 0 0 0 0;\n",
              "      width: 32px;\n",
              "    }\n",
              "\n",
              "    .colab-df-convert:hover {\n",
              "      background-color: #E2EBFA;\n",
              "      box-shadow: 0px 1px 2px rgba(60, 64, 67, 0.3), 0px 1px 3px 1px rgba(60, 64, 67, 0.15);\n",
              "      fill: #174EA6;\n",
              "    }\n",
              "\n",
              "    [theme=dark] .colab-df-convert {\n",
              "      background-color: #3B4455;\n",
              "      fill: #D2E3FC;\n",
              "    }\n",
              "\n",
              "    [theme=dark] .colab-df-convert:hover {\n",
              "      background-color: #434B5C;\n",
              "      box-shadow: 0px 1px 3px 1px rgba(0, 0, 0, 0.15);\n",
              "      filter: drop-shadow(0px 1px 2px rgba(0, 0, 0, 0.3));\n",
              "      fill: #FFFFFF;\n",
              "    }\n",
              "  </style>\n",
              "\n",
              "      <script>\n",
              "        const buttonEl =\n",
              "          document.querySelector('#df-d61f887f-7b0b-45ec-bc8d-8b45caa3affc button.colab-df-convert');\n",
              "        buttonEl.style.display =\n",
              "          google.colab.kernel.accessAllowed ? 'block' : 'none';\n",
              "\n",
              "        async function convertToInteractive(key) {\n",
              "          const element = document.querySelector('#df-d61f887f-7b0b-45ec-bc8d-8b45caa3affc');\n",
              "          const dataTable =\n",
              "            await google.colab.kernel.invokeFunction('convertToInteractive',\n",
              "                                                     [key], {});\n",
              "          if (!dataTable) return;\n",
              "\n",
              "          const docLinkHtml = 'Like what you see? Visit the ' +\n",
              "            '<a target=\"_blank\" href=https://colab.research.google.com/notebooks/data_table.ipynb>data table notebook</a>'\n",
              "            + ' to learn more about interactive tables.';\n",
              "          element.innerHTML = '';\n",
              "          dataTable['output_type'] = 'display_data';\n",
              "          await google.colab.output.renderOutput(dataTable, element);\n",
              "          const docLink = document.createElement('div');\n",
              "          docLink.innerHTML = docLinkHtml;\n",
              "          element.appendChild(docLink);\n",
              "        }\n",
              "      </script>\n",
              "    </div>\n",
              "  </div>\n",
              "  "
            ]
          },
          "metadata": {},
          "execution_count": 297
        }
      ],
      "source": [
        "#read_csv ya que el formato de archivo de los datos descargados es csv\n",
        "df = pd.read_csv('/content/sample_data/HeartDiseases.csv')\n",
        "\n",
        "#Separar la variable objetivo de las caracteristicas\n",
        "X = df.drop('clase', axis=1) #Características\n",
        "y = df.clase #variable objetivo\n",
        "#y.head()\n",
        "\n",
        "df.head()\n"
      ]
    },
    {
      "cell_type": "code",
      "execution_count": 261,
      "metadata": {
        "colab": {
          "base_uri": "https://localhost:8080/"
        },
        "id": "c5bG4B3-PkOd",
        "outputId": "38d153f8-2a39-4a06-857f-43daa424a16b",
        "scrolled": true
      },
      "outputs": [
        {
          "output_type": "stream",
          "name": "stdout",
          "text": [
            "<class 'pandas.core.frame.DataFrame'>\n",
            "RangeIndex: 303 entries, 0 to 302\n",
            "Data columns (total 14 columns):\n",
            " #   Column    Non-Null Count  Dtype  \n",
            "---  ------    --------------  -----  \n",
            " 0   age       303 non-null    int64  \n",
            " 1   sex       303 non-null    int64  \n",
            " 2   cp        303 non-null    int64  \n",
            " 3   trestbps  303 non-null    int64  \n",
            " 4   chol      303 non-null    int64  \n",
            " 5   fbs       303 non-null    int64  \n",
            " 6   restecg   303 non-null    int64  \n",
            " 7   thalach   303 non-null    int64  \n",
            " 8   exang     303 non-null    int64  \n",
            " 9   oldpeak   303 non-null    float64\n",
            " 10  slope     303 non-null    int64  \n",
            " 11  ca        303 non-null    int64  \n",
            " 12  thal      303 non-null    int64  \n",
            " 13  clase     303 non-null    int64  \n",
            "dtypes: float64(1), int64(13)\n",
            "memory usage: 33.3 KB\n"
          ]
        }
      ],
      "source": [
        "#Información del conjunto de datos\n",
        "df.info()"
      ]
    },
    {
      "cell_type": "code",
      "execution_count": null,
      "metadata": {
        "colab": {
          "base_uri": "https://localhost:8080/"
        },
        "id": "KOqFQmicPkOe",
        "outputId": "9d5d90c1-39a4-4694-c369-25e3ea6a7f37"
      },
      "outputs": [
        {
          "name": "stdout",
          "output_type": "stream",
          "text": [
            "Valores nulos\n",
            "\n"
          ]
        },
        {
          "data": {
            "text/plain": [
              "age         0\n",
              "sex         0\n",
              "cp          0\n",
              "trestbps    0\n",
              "chol        0\n",
              "fbs         0\n",
              "restecg     0\n",
              "thalach     0\n",
              "exang       0\n",
              "oldpeak     0\n",
              "slope       0\n",
              "ca          0\n",
              "thal        0\n",
              "clase       0\n",
              "dtype: int64"
            ]
          },
          "execution_count": 9,
          "metadata": {},
          "output_type": "execute_result"
        }
      ],
      "source": [
        "# Ver la cantidad de valores nulos en cada una de las características\n",
        "print('Valores nulos\\n')\n",
        "df.isnull().sum()"
      ]
    },
    {
      "cell_type": "markdown",
      "metadata": {
        "id": "oNbvUQQjPkOe"
      },
      "source": [
        "Utilizando el método _info()_, podemos comprobar la forma del conjunto de datos. Tenemos 303 filas y ningún valor perdido y hay un total de 13 características con una variable objetivo."
      ]
    },
    {
      "cell_type": "markdown",
      "metadata": {
        "id": "ionPFW5UPkOf"
      },
      "source": [
        "#### Feature explanation\n",
        "\n",
        "1.- EDAD: edad en años\n",
        "2.- SEXO: sexo (1= masculino; 0= femenino)\n",
        "3.- CP: tipo de dolor de pecho\n",
        "\n",
        "        -- Valor 1: angina típica\n",
        "        -- Valor 2: angina atípica\n",
        "        -- Valor 3: dolor no anginoso\n",
        "        -- Valor 4: asintomático\n",
        "\n",
        "4.-TRESBPS: presión arterial en reposo (en mm Hg al ingreso al hospital)\n",
        "\n",
        "5.-CHOL: colestoral sérico en mg/dl\n",
        "\n",
        "6.-FBS: (azúcar en sangre en ayunas > 120 mg/dl) (1 = verdadero; 0 = falso)\n",
        "\n",
        "7.-RESTECG:resultados electrocardiográficos en reposo\n",
        "\n",
        "        -- Valor 0: normal\n",
        "        -- Valor 1: tener anormalidad de onda ST-T (inversiones de onda T y/o ST\n",
        "                    elevación o depresión de > 0,05 mV)\n",
        "        -- Valor 2: mostrando hipertrofia ventricular izquierda probable o definitiva según el criterio de Estes\n",
        "\n",
        "8.-THALACH:frecuencia cardíaca máxima alcanzada\n",
        "\n",
        "9.-EXANG:angina inducida por ejercicio (1 = sí; 0 = no)\n",
        "\n",
        "10.-OLDPEAK:depresión del ST inducida por el ejercicio en relación con el reposo\n",
        "\n",
        "11.-SLOPE: la pendiente del segmento ST de ejercicio máximo\n",
        "\n",
        "        -- Valor 1: ascendente\n",
        "        -- Valor 2: plano\n",
        "        -- Valor 3: descendente\n",
        "\n",
        "12.-CA:número de vasos principales (0-3) coloreados por fluoroscopia\n",
        "\n",
        "13.-THAL (thalassemia): 3 = normal; 6 = defecto fijo; 7 = defecto reversible; (trastorno sanguíneo hereditario que hace que tu cuerpo tenga menos hemoglobina de lo normal)\n",
        "\n",
        "14.-CLASE:diagnóstico de enfermedad cardíaca (estado de enfermedad angiográfico)\n",
        "\n",
        "        -- Valor 0: < 50% estrechamiento del diámetro\n",
        "        -- Valor 1: > 50% estrechamiento del diámetro"
      ]
    },
    {
      "cell_type": "markdown",
      "metadata": {
        "id": "ySP8X_HGPkOg"
      },
      "source": [
        "#### Comprobación de la relación entre las características con un mapa de correlación y un diagrama de pares"
      ]
    },
    {
      "cell_type": "code",
      "execution_count": 262,
      "metadata": {
        "colab": {
          "base_uri": "https://localhost:8080/",
          "height": 626
        },
        "id": "s2S_zv86PkOh",
        "outputId": "719d7a8b-a24c-4a9a-b788-0293b8d194df",
        "scrolled": true
      },
      "outputs": [
        {
          "output_type": "display_data",
          "data": {
            "text/plain": [
              "<Figure size 720x720 with 2 Axes>"
            ],
            "image/png": "[encoded data removed]"
          },
          "metadata": {
            "needs_background": "light"
          }
        }
      ],
      "source": [
        "#Matriz de correlación\n",
        "plt.figure(figsize=(10,10))\n",
        "sns.heatmap(df.corr(),annot=True,fmt='.1f')\n",
        "plt.show()"
      ]
    },
    {
      "cell_type": "markdown",
      "metadata": {
        "id": "XM3AdcqfPkOi"
      },
      "source": [
        "#### Siempre es una buena práctica trabajar con un conjunto de datos en el que las clases objetivo tengan un tamaño aproximadamente igual. Por lo tanto, vamos a comprobar lo mismo."
      ]
    },
    {
      "cell_type": "code",
      "execution_count": 263,
      "metadata": {
        "colab": {
          "base_uri": "https://localhost:8080/",
          "height": 279
        },
        "id": "9FBcUbL6PkOi",
        "outputId": "ffc734f9-00a0-4668-9055-1728cafd5307"
      },
      "outputs": [
        {
          "output_type": "display_data",
          "data": {
            "text/plain": [
              "<Figure size 432x288 with 1 Axes>"
            ],
            "image/png": "[encoded data removed]"
          },
          "metadata": {
            "needs_background": "light"
          }
        }
      ],
      "source": [
        "#Distribución class (0= no tiene ECV; 1= si tiene ECV)\n",
        "sns.countplot(x=\"clase\", data=df, palette=\"bwr\")\n",
        "plt.show()"
      ]
    },
    {
      "cell_type": "markdown",
      "metadata": {
        "id": "EEx-q_wWPkOi"
      },
      "source": [
        "Las clases no son exactamente 50%-50% pero la diferencia entre las clases no es significativa, por lo tanto, no tenemos que hacer ningún otro paso."
      ]
    },
    {
      "cell_type": "markdown",
      "metadata": {
        "id": "2GjgElF4PkOj"
      },
      "source": [
        "#### Distribución de registros con respecto al sexo"
      ]
    },
    {
      "cell_type": "code",
      "execution_count": 264,
      "metadata": {
        "colab": {
          "base_uri": "https://localhost:8080/"
        },
        "id": "RfNSOLTwPkOk",
        "outputId": "907e063f-5484-48e2-f1c2-218fb3cea9f4"
      },
      "outputs": [
        {
          "output_type": "stream",
          "name": "stdout",
          "text": [
            "Porcentaje de registros Femeninos: 32.01%\n",
            "Percentaje de registros Masculino: 67.99%\n"
          ]
        }
      ],
      "source": [
        "# Número de instancias que corresponder a mujeres/hombres\n",
        "countFemale = len(df[df.sex == 0])\n",
        "countMale = len(df[df.sex == 1])\n",
        "all_ = len(df.sex)\n",
        "print(\"Porcentaje de registros Femeninos: {:.2f}%\".format((countFemale / all_*100)))\n",
        "print(\"Percentaje de registros Masculino: {:.2f}%\".format((countMale / all_*100)))"
      ]
    },
    {
      "cell_type": "markdown",
      "metadata": {
        "id": "yHXezff_PkOk"
      },
      "source": [
        "En la salida anterior, no existe una proporción igual de personas. Por el momento parece ser el valor de desequilibrio. (**Puede ser un problema**)"
      ]
    },
    {
      "cell_type": "code",
      "execution_count": 265,
      "metadata": {
        "colab": {
          "base_uri": "https://localhost:8080/",
          "height": 207
        },
        "id": "8dH2LPKfPkOk",
        "outputId": "7069a5f8-54d1-4f60-fe3b-099c15e1be2b"
      },
      "outputs": [
        {
          "output_type": "execute_result",
          "data": {
            "text/plain": [
              "             age       sex        cp    trestbps        chol       fbs  \\\n",
              "clase                                                                    \n",
              "0      52.585366  0.560976  2.792683  129.250000  242.640244  0.140244   \n",
              "1      56.625899  0.820144  3.589928  134.568345  251.474820  0.158273   \n",
              "\n",
              "        restecg     thalach     exang   oldpeak     slope        ca      thal  \n",
              "clase                                                                          \n",
              "0      0.835366  158.378049  0.140244  0.586585  1.408537  0.280488  3.792683  \n",
              "1      1.172662  139.258993  0.546763  1.574101  1.827338  1.136691  5.798561  "
            ],
            "text/html": [
              "\n",
              "  <div id=\"df-1ff0ce3f-2be9-4aa7-9785-de75f4c6b5ba\">\n",
              "    <div class=\"colab-df-container\">\n",
              "      <div>\n",
              "<style scoped>\n",
              "    .dataframe tbody tr th:only-of-type {\n",
              "        vertical-align: middle;\n",
              "    }\n",
              "\n",
              "    .dataframe tbody tr th {\n",
              "        vertical-align: top;\n",
              "    }\n",
              "\n",
              "    .dataframe thead th {\n",
              "        text-align: right;\n",
              "    }\n",
              "</style>\n",
              "<table border=\"1\" class=\"dataframe\">\n",
              "  <thead>\n",
              "    <tr style=\"text-align: right;\">\n",
              "      <th></th>\n",
              "      <th>age</th>\n",
              "      <th>sex</th>\n",
              "      <th>cp</th>\n",
              "      <th>trestbps</th>\n",
              "      <th>chol</th>\n",
              "      <th>fbs</th>\n",
              "      <th>restecg</th>\n",
              "      <th>thalach</th>\n",
              "      <th>exang</th>\n",
              "      <th>oldpeak</th>\n",
              "      <th>slope</th>\n",
              "      <th>ca</th>\n",
              "      <th>thal</th>\n",
              "    </tr>\n",
              "    <tr>\n",
              "      <th>clase</th>\n",
              "      <th></th>\n",
              "      <th></th>\n",
              "      <th></th>\n",
              "      <th></th>\n",
              "      <th></th>\n",
              "      <th></th>\n",
              "      <th></th>\n",
              "      <th></th>\n",
              "      <th></th>\n",
              "      <th></th>\n",
              "      <th></th>\n",
              "      <th></th>\n",
              "      <th></th>\n",
              "    </tr>\n",
              "  </thead>\n",
              "  <tbody>\n",
              "    <tr>\n",
              "      <th>0</th>\n",
              "      <td>52.585366</td>\n",
              "      <td>0.560976</td>\n",
              "      <td>2.792683</td>\n",
              "      <td>129.250000</td>\n",
              "      <td>242.640244</td>\n",
              "      <td>0.140244</td>\n",
              "      <td>0.835366</td>\n",
              "      <td>158.378049</td>\n",
              "      <td>0.140244</td>\n",
              "      <td>0.586585</td>\n",
              "      <td>1.408537</td>\n",
              "      <td>0.280488</td>\n",
              "      <td>3.792683</td>\n",
              "    </tr>\n",
              "    <tr>\n",
              "      <th>1</th>\n",
              "      <td>56.625899</td>\n",
              "      <td>0.820144</td>\n",
              "      <td>3.589928</td>\n",
              "      <td>134.568345</td>\n",
              "      <td>251.474820</td>\n",
              "      <td>0.158273</td>\n",
              "      <td>1.172662</td>\n",
              "      <td>139.258993</td>\n",
              "      <td>0.546763</td>\n",
              "      <td>1.574101</td>\n",
              "      <td>1.827338</td>\n",
              "      <td>1.136691</td>\n",
              "      <td>5.798561</td>\n",
              "    </tr>\n",
              "  </tbody>\n",
              "</table>\n",
              "</div>\n",
              "      <button class=\"colab-df-convert\" onclick=\"convertToInteractive('df-1ff0ce3f-2be9-4aa7-9785-de75f4c6b5ba')\"\n",
              "              title=\"Convert this dataframe to an interactive table.\"\n",
              "              style=\"display:none;\">\n",
              "        \n",
              "  <svg xmlns=\"http://www.w3.org/2000/svg\" height=\"24px\"viewBox=\"0 0 24 24\"\n",
              "       width=\"24px\">\n",
              "    <path d=\"M0 0h24v24H0V0z\" fill=\"none\"/>\n",
              "    <path d=\"M18.56 5.44l.94 2.06.94-2.06 2.06-.94-2.06-.94-.94-2.06-.94 2.06-2.06.94zm-11 1L8.5 8.5l.94-2.06 2.06-.94-2.06-.94L8.5 2.5l-.94 2.06-2.06.94zm10 10l.94 2.06.94-2.06 2.06-.94-2.06-.94-.94-2.06-.94 2.06-2.06.94z\"/><path d=\"M17.41 7.96l-1.37-1.37c-.4-.4-.92-.59-1.43-.59-.52 0-1.04.2-1.43.59L10.3 9.45l-7.72 7.72c-.78.78-.78 2.05 0 2.83L4 21.41c.39.39.9.59 1.41.59.51 0 1.02-.2 1.41-.59l7.78-7.78 2.81-2.81c.8-.78.8-2.07 0-2.86zM5.41 20L4 18.59l7.72-7.72 1.47 1.35L5.41 20z\"/>\n",
              "  </svg>\n",
              "      </button>\n",
              "      \n",
              "  <style>\n",
              "    .colab-df-container {\n",
              "      display:flex;\n",
              "      flex-wrap:wrap;\n",
              "      gap: 12px;\n",
              "    }\n",
              "\n",
              "    .colab-df-convert {\n",
              "      background-color: #E8F0FE;\n",
              "      border: none;\n",
              "      border-radius: 50%;\n",
              "      cursor: pointer;\n",
              "      display: none;\n",
              "      fill: #1967D2;\n",
              "      height: 32px;\n",
              "      padding: 0 0 0 0;\n",
              "      width: 32px;\n",
              "    }\n",
              "\n",
              "    .colab-df-convert:hover {\n",
              "      background-color: #E2EBFA;\n",
              "      box-shadow: 0px 1px 2px rgba(60, 64, 67, 0.3), 0px 1px 3px 1px rgba(60, 64, 67, 0.15);\n",
              "      fill: #174EA6;\n",
              "    }\n",
              "\n",
              "    [theme=dark] .colab-df-convert {\n",
              "      background-color: #3B4455;\n",
              "      fill: #D2E3FC;\n",
              "    }\n",
              "\n",
              "    [theme=dark] .colab-df-convert:hover {\n",
              "      background-color: #434B5C;\n",
              "      box-shadow: 0px 1px 3px 1px rgba(0, 0, 0, 0.15);\n",
              "      filter: drop-shadow(0px 1px 2px rgba(0, 0, 0, 0.3));\n",
              "      fill: #FFFFFF;\n",
              "    }\n",
              "  </style>\n",
              "\n",
              "      <script>\n",
              "        const buttonEl =\n",
              "          document.querySelector('#df-1ff0ce3f-2be9-4aa7-9785-de75f4c6b5ba button.colab-df-convert');\n",
              "        buttonEl.style.display =\n",
              "          google.colab.kernel.accessAllowed ? 'block' : 'none';\n",
              "\n",
              "        async function convertToInteractive(key) {\n",
              "          const element = document.querySelector('#df-1ff0ce3f-2be9-4aa7-9785-de75f4c6b5ba');\n",
              "          const dataTable =\n",
              "            await google.colab.kernel.invokeFunction('convertToInteractive',\n",
              "                                                     [key], {});\n",
              "          if (!dataTable) return;\n",
              "\n",
              "          const docLinkHtml = 'Like what you see? Visit the ' +\n",
              "            '<a target=\"_blank\" href=https://colab.research.google.com/notebooks/data_table.ipynb>data table notebook</a>'\n",
              "            + ' to learn more about interactive tables.';\n",
              "          element.innerHTML = '';\n",
              "          dataTable['output_type'] = 'display_data';\n",
              "          await google.colab.output.renderOutput(dataTable, element);\n",
              "          const docLink = document.createElement('div');\n",
              "          docLink.innerHTML = docLinkHtml;\n",
              "          element.appendChild(docLink);\n",
              "        }\n",
              "      </script>\n",
              "    </div>\n",
              "  </div>\n",
              "  "
            ]
          },
          "metadata": {},
          "execution_count": 265
        }
      ],
      "source": [
        "# Estadísticos descriptivos por clase\n",
        "df.groupby('clase').mean()\n",
        "\n"
      ]
    },
    {
      "cell_type": "code",
      "execution_count": 266,
      "metadata": {
        "colab": {
          "base_uri": "https://localhost:8080/",
          "height": 333
        },
        "id": "KUxSebd5PkOl",
        "outputId": "caf706e6-ea6e-4647-c827-782311503f57",
        "scrolled": true
      },
      "outputs": [
        {
          "output_type": "display_data",
          "data": {
            "text/plain": [
              "<Figure size 1440x432 with 1 Axes>"
            ],
            "image/png": "[encoded data removed]"
          },
          "metadata": {
            "needs_background": "light"
          }
        }
      ],
      "source": [
        "#Distribución por edades\n",
        "pd.crosstab(df.age,df.clase).plot(kind=\"bar\",figsize=(20,6))\n",
        "plt.title('Frecuencia por Edades')\n",
        "plt.xlabel('Age')\n",
        "plt.ylabel('Frequency')\n",
        "plt.show()"
      ]
    },
    {
      "cell_type": "markdown",
      "metadata": {
        "id": "XAbXtXPgQd9e"
      },
      "source": [
        "####Estandarización de datos"
      ]
    },
    {
      "cell_type": "markdown",
      "metadata": {
        "id": "CaYrYb8uSLe0"
      },
      "source": [
        "**Necesidad de estandarización**\n",
        "\n",
        "Antes de entrar en la estandarización, primero comprendamos el concepto de escalado.\n",
        "\n",
        "El escalado de características es un paso esencial para modelar los algoritmos con los conjuntos de datos. Los datos que generalmente se utilizan con fines de modelado se derivan a través de varios medios, tales como: _Cuestionario, Encuestas, Investigar, Raspado , etc_\n",
        "\n",
        "Entonces, los datos obtenidos contienen características de varias dimensiones y escalas en total. Las diferentes escalas de las características de los datos afectan negativamente al modelado de un conjunto de datos.\n",
        "\n",
        "Conduce a un resultado sesgado de las predicciones en términos de errores de clasificación y tasas de precisión. Por lo tanto, es necesario escalar los datos antes del modelado.\n",
        "\n",
        "Aquí es cuando la **estandarización entra en escena.**\n",
        "\n",
        "La estandarización es una técnica de escala en la que hace que los datos no tengan escala al convertir la distribución estadística de los datos al siguiente formato:\n",
        "\n",
        "Media: 0  - Desviación estándar: 1"
      ]
    },
    {
      "cell_type": "code",
      "execution_count": 298,
      "metadata": {
        "id": "4CzlgupGPkOn"
      },
      "outputs": [],
      "source": [
        "# Aplicamos filtro de standarizado de las caracteristicas\n",
        "standardscaler = StandardScaler()\n",
        "variables = ['age', 'sex', 'cp', 'trestbps', 'chol', 'fbs', 'restecg','thalach', 'exang', 'oldpeak','slope', 'ca', 'thal']\n",
        "#Datos estandarizados\n",
        "df[variables] = standardscaler.fit_transform(df[variables])\n",
        "\n",
        "\n",
        "\n",
        "#Comprobamos que efectivamente sea 1 la desviación estandar de cada característica\n",
        "#df.std()\n",
        "#df.mean()\n",
        "\n"
      ]
    },
    {
      "cell_type": "markdown",
      "metadata": {
        "id": "xg9Ls3E3PkOo"
      },
      "source": [
        "### Model Training"
      ]
    },
    {
      "cell_type": "code",
      "execution_count": 268,
      "metadata": {
        "id": "lxqZL9NBPkOo"
      },
      "outputs": [],
      "source": [
        "#function that will print out all the important details about each training\n",
        "def print_score(clf, X_train, y_train, X_test, y_test, train=True):\n",
        "    if train:\n",
        "        pred = clf.predict(X_train)\n",
        "        clf_report = pd.DataFrame(classification_report(y_train, pred, output_dict=True))\n",
        "        print(\"Resultado de entrenamiento:\\n================================================\")\n",
        "        print(f\"Puntaje Accuracy: {accuracy_score(y_train, pred) * 100:.2f}%\")\n",
        "        print(\"_______________________________________________\")\n",
        "        print(f\"REPORTE DE CLASIFICACIÓN :\\n{clf_report}\")\n",
        "        print(\"_______________________________________________\")\n",
        "        print(f\"Matrix de Confusión: \\n {confusion_matrix(y_train, pred)}\\n\")\n",
        "        #imprimir matriz de confusión\n",
        "        #cm=confusion_matrix(y_train,pred)\n",
        "        #fig = px.imshow(cm, text_auto=True)\n",
        "        #fig.show()\n",
        "\n",
        "        # Otra forma de graficar un heatmap\n",
        "        #sns.heatmap(cm,annot=True)\n",
        "        #plt.show()\n",
        "        \n",
        "    elif train==False:\n",
        "        pred = clf.predict(X_test)\n",
        "        clf_report = pd.DataFrame(classification_report(y_test, pred, output_dict=True))\n",
        "        print(\"Resultado de prueba:\\n================================================\")        \n",
        "        print(f\"Puntaje Accuracy: {accuracy_score(y_test, pred) * 100:.2f}%\")\n",
        "        print(\"_______________________________________________\")\n",
        "        print(f\"REPORTE DE CLASIFICACIÓN:\\n{clf_report}\")\n",
        "        print(\"_______________________________________________\")\n",
        "        print(f\"Matrix de Confusión: \\n {confusion_matrix(y_test, pred)}\\n\")\n",
        "        #imprimir matriz de confusión\n",
        "        #cm=confusion_matrix(y_test,pred)\n",
        "        #fig = px.imshow(cm, text_auto=True)\n",
        "        #fig.show()\n",
        "        \n",
        "        # Otra forma de graficar un heatmap\n",
        "        #sns.heatmap(cm,annot=True)\n",
        "        #plt.show()\n",
        "        "
      ]
    },
    {
      "cell_type": "markdown",
      "metadata": {
        "id": "5ApaDTGEPkOp"
      },
      "source": [
        "###IMPORTANTE!\n",
        "Antes de empezar nuestro entrenamiento, tenemos que dividir nuestro conjunto de datos en conjunto de entrenamiento y de prueba. Si lo tenemos, es el momento de construir un modelo de aprendizaje automático."
      ]
    },
    {
      "cell_type": "code",
      "execution_count": 299,
      "metadata": {
        "colab": {
          "base_uri": "https://localhost:8080/",
          "height": 441
        },
        "id": "QGS8syAoPkOp",
        "outputId": "1b10d8a2-a6a3-4293-ab73-9482263027c3"
      },
      "outputs": [
        {
          "output_type": "stream",
          "name": "stdout",
          "text": [
            "['thalach', 'exang', 'oldpeak', 'ca', 'thal']\n"
          ]
        },
        {
          "output_type": "execute_result",
          "data": {
            "text/plain": [
              "     thalach  exang  oldpeak  ca  thal\n",
              "179      158      0      0.6   2     6\n",
              "228      142      1      1.2   1     7\n",
              "111      173      0      0.2   1     7\n",
              "246      156      1      1.0   0     0\n",
              "60       130      0      0.0   1     3\n",
              "..       ...    ...      ...  ..   ...\n",
              "250      161      0      0.0   1     7\n",
              "19       151      0      1.8   2     3\n",
              "143      142      0      0.3   2     3\n",
              "79       154      1      0.6   0     7\n",
              "144      116      0      1.1   0     3\n",
              "\n",
              "[91 rows x 5 columns]"
            ],
            "text/html": [
              "\n",
              "  <div id=\"df-c682f595-0aeb-41aa-b6e6-7575862a8660\">\n",
              "    <div class=\"colab-df-container\">\n",
              "      <div>\n",
              "<style scoped>\n",
              "    .dataframe tbody tr th:only-of-type {\n",
              "        vertical-align: middle;\n",
              "    }\n",
              "\n",
              "    .dataframe tbody tr th {\n",
              "        vertical-align: top;\n",
              "    }\n",
              "\n",
              "    .dataframe thead th {\n",
              "        text-align: right;\n",
              "    }\n",
              "</style>\n",
              "<table border=\"1\" class=\"dataframe\">\n",
              "  <thead>\n",
              "    <tr style=\"text-align: right;\">\n",
              "      <th></th>\n",
              "      <th>thalach</th>\n",
              "      <th>exang</th>\n",
              "      <th>oldpeak</th>\n",
              "      <th>ca</th>\n",
              "      <th>thal</th>\n",
              "    </tr>\n",
              "  </thead>\n",
              "  <tbody>\n",
              "    <tr>\n",
              "      <th>179</th>\n",
              "      <td>158</td>\n",
              "      <td>0</td>\n",
              "      <td>0.6</td>\n",
              "      <td>2</td>\n",
              "      <td>6</td>\n",
              "    </tr>\n",
              "    <tr>\n",
              "      <th>228</th>\n",
              "      <td>142</td>\n",
              "      <td>1</td>\n",
              "      <td>1.2</td>\n",
              "      <td>1</td>\n",
              "      <td>7</td>\n",
              "    </tr>\n",
              "    <tr>\n",
              "      <th>111</th>\n",
              "      <td>173</td>\n",
              "      <td>0</td>\n",
              "      <td>0.2</td>\n",
              "      <td>1</td>\n",
              "      <td>7</td>\n",
              "    </tr>\n",
              "    <tr>\n",
              "      <th>246</th>\n",
              "      <td>156</td>\n",
              "      <td>1</td>\n",
              "      <td>1.0</td>\n",
              "      <td>0</td>\n",
              "      <td>0</td>\n",
              "    </tr>\n",
              "    <tr>\n",
              "      <th>60</th>\n",
              "      <td>130</td>\n",
              "      <td>0</td>\n",
              "      <td>0.0</td>\n",
              "      <td>1</td>\n",
              "      <td>3</td>\n",
              "    </tr>\n",
              "    <tr>\n",
              "      <th>...</th>\n",
              "      <td>...</td>\n",
              "      <td>...</td>\n",
              "      <td>...</td>\n",
              "      <td>...</td>\n",
              "      <td>...</td>\n",
              "    </tr>\n",
              "    <tr>\n",
              "      <th>250</th>\n",
              "      <td>161</td>\n",
              "      <td>0</td>\n",
              "      <td>0.0</td>\n",
              "      <td>1</td>\n",
              "      <td>7</td>\n",
              "    </tr>\n",
              "    <tr>\n",
              "      <th>19</th>\n",
              "      <td>151</td>\n",
              "      <td>0</td>\n",
              "      <td>1.8</td>\n",
              "      <td>2</td>\n",
              "      <td>3</td>\n",
              "    </tr>\n",
              "    <tr>\n",
              "      <th>143</th>\n",
              "      <td>142</td>\n",
              "      <td>0</td>\n",
              "      <td>0.3</td>\n",
              "      <td>2</td>\n",
              "      <td>3</td>\n",
              "    </tr>\n",
              "    <tr>\n",
              "      <th>79</th>\n",
              "      <td>154</td>\n",
              "      <td>1</td>\n",
              "      <td>0.6</td>\n",
              "      <td>0</td>\n",
              "      <td>7</td>\n",
              "    </tr>\n",
              "    <tr>\n",
              "      <th>144</th>\n",
              "      <td>116</td>\n",
              "      <td>0</td>\n",
              "      <td>1.1</td>\n",
              "      <td>0</td>\n",
              "      <td>3</td>\n",
              "    </tr>\n",
              "  </tbody>\n",
              "</table>\n",
              "<p>91 rows × 5 columns</p>\n",
              "</div>\n",
              "      <button class=\"colab-df-convert\" onclick=\"convertToInteractive('df-c682f595-0aeb-41aa-b6e6-7575862a8660')\"\n",
              "              title=\"Convert this dataframe to an interactive table.\"\n",
              "              style=\"display:none;\">\n",
              "        \n",
              "  <svg xmlns=\"http://www.w3.org/2000/svg\" height=\"24px\"viewBox=\"0 0 24 24\"\n",
              "       width=\"24px\">\n",
              "    <path d=\"M0 0h24v24H0V0z\" fill=\"none\"/>\n",
              "    <path d=\"M18.56 5.44l.94 2.06.94-2.06 2.06-.94-2.06-.94-.94-2.06-.94 2.06-2.06.94zm-11 1L8.5 8.5l.94-2.06 2.06-.94-2.06-.94L8.5 2.5l-.94 2.06-2.06.94zm10 10l.94 2.06.94-2.06 2.06-.94-2.06-.94-.94-2.06-.94 2.06-2.06.94z\"/><path d=\"M17.41 7.96l-1.37-1.37c-.4-.4-.92-.59-1.43-.59-.52 0-1.04.2-1.43.59L10.3 9.45l-7.72 7.72c-.78.78-.78 2.05 0 2.83L4 21.41c.39.39.9.59 1.41.59.51 0 1.02-.2 1.41-.59l7.78-7.78 2.81-2.81c.8-.78.8-2.07 0-2.86zM5.41 20L4 18.59l7.72-7.72 1.47 1.35L5.41 20z\"/>\n",
              "  </svg>\n",
              "      </button>\n",
              "      \n",
              "  <style>\n",
              "    .colab-df-container {\n",
              "      display:flex;\n",
              "      flex-wrap:wrap;\n",
              "      gap: 12px;\n",
              "    }\n",
              "\n",
              "    .colab-df-convert {\n",
              "      background-color: #E8F0FE;\n",
              "      border: none;\n",
              "      border-radius: 50%;\n",
              "      cursor: pointer;\n",
              "      display: none;\n",
              "      fill: #1967D2;\n",
              "      height: 32px;\n",
              "      padding: 0 0 0 0;\n",
              "      width: 32px;\n",
              "    }\n",
              "\n",
              "    .colab-df-convert:hover {\n",
              "      background-color: #E2EBFA;\n",
              "      box-shadow: 0px 1px 2px rgba(60, 64, 67, 0.3), 0px 1px 3px 1px rgba(60, 64, 67, 0.15);\n",
              "      fill: #174EA6;\n",
              "    }\n",
              "\n",
              "    [theme=dark] .colab-df-convert {\n",
              "      background-color: #3B4455;\n",
              "      fill: #D2E3FC;\n",
              "    }\n",
              "\n",
              "    [theme=dark] .colab-df-convert:hover {\n",
              "      background-color: #434B5C;\n",
              "      box-shadow: 0px 1px 3px 1px rgba(0, 0, 0, 0.15);\n",
              "      filter: drop-shadow(0px 1px 2px rgba(0, 0, 0, 0.3));\n",
              "      fill: #FFFFFF;\n",
              "    }\n",
              "  </style>\n",
              "\n",
              "      <script>\n",
              "        const buttonEl =\n",
              "          document.querySelector('#df-c682f595-0aeb-41aa-b6e6-7575862a8660 button.colab-df-convert');\n",
              "        buttonEl.style.display =\n",
              "          google.colab.kernel.accessAllowed ? 'block' : 'none';\n",
              "\n",
              "        async function convertToInteractive(key) {\n",
              "          const element = document.querySelector('#df-c682f595-0aeb-41aa-b6e6-7575862a8660');\n",
              "          const dataTable =\n",
              "            await google.colab.kernel.invokeFunction('convertToInteractive',\n",
              "                                                     [key], {});\n",
              "          if (!dataTable) return;\n",
              "\n",
              "          const docLinkHtml = 'Like what you see? Visit the ' +\n",
              "            '<a target=\"_blank\" href=https://colab.research.google.com/notebooks/data_table.ipynb>data table notebook</a>'\n",
              "            + ' to learn more about interactive tables.';\n",
              "          element.innerHTML = '';\n",
              "          dataTable['output_type'] = 'display_data';\n",
              "          await google.colab.output.renderOutput(dataTable, element);\n",
              "          const docLink = document.createElement('div');\n",
              "          docLink.innerHTML = docLinkHtml;\n",
              "          element.appendChild(docLink);\n",
              "        }\n",
              "      </script>\n",
              "    </div>\n",
              "  </div>\n",
              "  "
            ]
          },
          "metadata": {},
          "execution_count": 299
        }
      ],
      "source": [
        "#Dividir el conjunto de datos, el 30% será para probar nuestro modelo\n",
        "X_train, X_test, y_train, y_test = train_test_split(X, y, test_size=0.3, random_state=42)\n",
        "X_train.shape\n",
        "\n",
        "#Selección de caraterísticas\n",
        "from sklearn.feature_selection import SelectKBest, chi2\n",
        "\n",
        "selector = SelectKBest(chi2, k=5) \n",
        "selector.fit(X_train, y_train) \n",
        "cols = selector.get_support(indices=True) \n",
        "cols_names = list(X_train.iloc[:, cols] .columns) \n",
        "\n",
        "print(cols_names)\n",
        "\n",
        "#Nombre de las caracteristica\n",
        "va=['thalach', 'exang', 'oldpeak', 'ca', 'thal']\n",
        "#Datos de entrenamiento y prueba con las 5 mejores características (chi2)\n",
        "X_train= X_train[va]\n",
        "X_test= X_test[va]\n",
        "X_test\n",
        "\n",
        "\n"
      ]
    },
    {
      "cell_type": "markdown",
      "metadata": {
        "id": "aYDCg7ul3AMq"
      },
      "source": [
        "### 2. K-nearest neighbour - Cross validation con **Ajuste de Hiperparametro**"
      ]
    },
    {
      "cell_type": "code",
      "execution_count": 254,
      "metadata": {
        "colab": {
          "base_uri": "https://localhost:8080/",
          "height": 475
        },
        "id": "AKZv-mG23AMs",
        "outputId": "d5afdc18-4283-46d9-881d-d436ef3e51cb"
      },
      "outputs": [
        {
          "output_type": "stream",
          "name": "stdout",
          "text": [
            "Fitting 10 folds for each of 11 candidates, totalling 110 fits\n",
            "Mejor configuración: {'n_neighbors': 5}\n",
            "% Desempeño para cada modelo ajustado: [0.74069264 0.74545455 0.77359307 0.73614719 0.72619048 0.73116883\n",
            " 0.72662338 0.73614719 0.72662338 0.73138528 0.73138528]\n",
            "Mejor % de desempeño: 0.7735930735930736\n"
          ]
        },
        {
          "output_type": "display_data",
          "data": {
            "text/plain": [
              "<Figure size 720x432 with 1 Axes>"
            ],
            "image/png": "[encoded data removed]"
          },
          "metadata": {
            "needs_background": "light"
          }
        }
      ],
      "source": [
        "#n_neighbors: número de puntos que considera para comparar el nuevo punto\n",
        "#weights: sirve para dar peso a los puntos que están cerca y menos peso a los puntos que están más lejos.\n",
        "\n",
        "# Especificamos las variables de decisión y para cada una de ellas su espacio de búsqueda\n",
        "params = {'n_neighbors' : [1,3,5,7,9,11,13,15,17,19,21]}#,'weights' : ['uniform','distance']}\n",
        "#params = { 'n_neighbors' : [5,7,9,11,13,15], 'weights' : ['uniform','distance'],'metric' : ['minkowski','euclidean','manhattan']}\n",
        "\n",
        "#Creamos una instancia del clasificador\n",
        "knn_clf = KNeighborsClassifier()\n",
        "\n",
        "#Preparamos la técnica de optimización\n",
        "knn_cv = GridSearchCV(knn_clf, params, scoring=\"accuracy\", n_jobs=-1, verbose=1, cv=10)\n",
        "\n",
        "#Entrenamos el modelo\n",
        "knn_cv.fit(X_train, y_train)\n",
        "\n",
        "#Recuperamos la combinación de hiperparámetros óptima\n",
        "BestParams=knn_cv.best_params_\n",
        "print(f\"Mejor configuración: {BestParams}\")\n",
        "\n",
        "#Lista de porcentaje de desempeño por cada modelo ajustado\n",
        "grid_scores = knn_cv.cv_results_['mean_test_score']\n",
        "print(f\"% Desempeño para cada modelo ajustado: {grid_scores}\")\n",
        "\n",
        "#Mejor porcentaje de desempeño\n",
        "best_score = knn_cv.best_score_\n",
        "print(f\"Mejor % de desempeño: {best_score}\")\n",
        "\n",
        "#Graficamos el desempeño de cada uno de los modelos ajustados\n",
        "loc = 1,3,5,7,9,11,13,15,17,19,21\n",
        "plt.figure(figsize = (10, 6))\n",
        "plt.plot(loc,grid_scores)\n",
        "plt.xticks(loc)\n",
        "plt.xlabel('Number of Neighbors ')\n",
        "plt.ylabel('Accuracy')\n",
        "plt.show()\n"
      ]
    },
    {
      "cell_type": "code",
      "execution_count": 256,
      "metadata": {
        "colab": {
          "base_uri": "https://localhost:8080/"
        },
        "id": "GVYi7VXYmJkE",
        "outputId": "28f09ca0-2b73-426e-b91e-1faadbd21249"
      },
      "outputs": [
        {
          "output_type": "stream",
          "name": "stdout",
          "text": [
            "Resultado de entrenamiento:\n",
            "================================================\n",
            "Puntaje Accuracy: 83.02%\n",
            "_______________________________________________\n",
            "REPORTE DE CLASIFICACIÓN :\n",
            "                    0          1  accuracy   macro avg  weighted avg\n",
            "precision    0.843478   0.814433  0.830189    0.828956      0.830189\n",
            "recall       0.843478   0.814433  0.830189    0.828956      0.830189\n",
            "f1-score     0.843478   0.814433  0.830189    0.828956      0.830189\n",
            "support    115.000000  97.000000  0.830189  212.000000    212.000000\n",
            "_______________________________________________\n",
            "Matrix de Confusión: \n",
            " [[97 18]\n",
            " [18 79]]\n",
            "\n",
            "Resultado de prueba:\n",
            "================================================\n",
            "Puntaje Accuracy: 75.82%\n",
            "_______________________________________________\n",
            "REPORTE DE CLASIFICACIÓN:\n",
            "                   0          1  accuracy  macro avg  weighted avg\n",
            "precision   0.754717   0.763158  0.758242   0.758937      0.758613\n",
            "recall      0.816327   0.690476  0.758242   0.753401      0.758242\n",
            "f1-score    0.784314   0.725000  0.758242   0.754657      0.756938\n",
            "support    49.000000  42.000000  0.758242  91.000000     91.000000\n",
            "_______________________________________________\n",
            "Matrix de Confusión: \n",
            " [[40  9]\n",
            " [13 29]]\n",
            "\n"
          ]
        }
      ],
      "source": [
        "from sklearn import neighbors\n",
        "#Con la combinación más óptima instanciamos un nuevo clasificador\n",
        "knn_clf_tuned = KNeighborsClassifier(**BestParams)\n",
        "\n",
        "#Entrenamos el modelo\n",
        "knn_clf_tuned.fit(X_train, y_train)\n",
        "\n",
        "#Mostramos los valores de las métricas de desempeño\n",
        "print_score(knn_clf_tuned, X_train, y_train, X_test, y_test, train=True)\n",
        "print_score(knn_clf_tuned, X_train, y_train, X_test, y_test, train=False)"
      ]
    }
  ],
  "metadata": {
    "colab": {
      "collapsed_sections": [],
      "provenance": [],
      "include_colab_link": true
    },
    "kernelspec": {
      "display_name": "Python 3",
      "language": "python",
      "name": "python3"
    },
    "language_info": {
      "codemirror_mode": {
        "name": "ipython",
        "version": 3
      },
      "file_extension": ".py",
      "mimetype": "text/x-python",
      "name": "python",
      "nbconvert_exporter": "python",
      "pygments_lexer": "ipython3",
      "version": "3.8.5"
    }
  },
  "nbformat": 4,
  "nbformat_minor": 0
}