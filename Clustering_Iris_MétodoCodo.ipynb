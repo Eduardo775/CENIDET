{
  "nbformat": 4,
  "nbformat_minor": 0,
  "metadata": {
    "colab": {
      "provenance": [],
      "collapsed_sections": [],
      "include_colab_link": true
    },
    "kernelspec": {
      "name": "python3",
      "display_name": "Python 3"
    }
  },
  "cells": [
    {
      "cell_type": "markdown",
      "metadata": {
        "id": "view-in-github",
        "colab_type": "text"
      },
      "source": [
        "<a href=\"https://colab.research.google.com/github/Eduardo775/CENIDET/blob/main/Clustering_Iris_M%C3%A9todoCodo.ipynb\" target=\"_parent\"><img src=\"https://colab.research.google.com/assets/colab-badge.svg\" alt=\"Open In Colab\"/></a>"
      ]
    },
    {
      "cell_type": "markdown",
      "source": [
        "El análisis de conglomerados es una técnica estadística multivariada que agrupa las observaciones en función de algunas de sus características o variables que las describen, de modo que:\n",
        "\n",
        "\n",
        "*   Los ejemplos dentro de un grupo son similares (en este caso, hablamos de alta similitud intraclase).\n",
        "*   Los ejemplos en diferentes grupos son diferentes (en este caso, hablamos de baja similitud entre clases)\n",
        "\n",
        "Inercia\n",
        "El valor Inercia (suma de cuadrados) da una indicación de qué tan coherentes son los diferentes grupos. \n",
        "\n",
        "![image.png](data:image/png;base64,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)\n",
        "\n",
        "N es el número de muestras dentro del conjunto de datos, C es el centro de un grupo.\n",
        "\n",
        "Inertia simplemente calcula la distancia al cuadrado de cada muestra en un grupo a su centroide de grupo y los suma.\n",
        "\n",
        "Este proceso se realiza para cada grupo y todas las muestras dentro de ese conjunto de datos. Cuanto menor sea el valor de Inercia, más coherentes serán los diferentes grupos."
      ],
      "metadata": {
        "id": "JEknPG4V26N9"
      }
    },
    {
      "cell_type": "markdown",
      "metadata": {
        "id": "VKrDJpwFkBjD"
      },
      "source": [
        "## **Importando las bibliotecas**"
      ]
    },
    {
      "cell_type": "code",
      "metadata": {
        "id": "ylzo54aC-IZ2"
      },
      "source": [
        "import numpy as np\n",
        "import pandas as pd\n",
        "import matplotlib.pyplot as plt\n",
        "from sklearn import datasets\n",
        "import seaborn as sns\n",
        "from sklearn.cluster import KMeans"
      ],
      "execution_count": 7,
      "outputs": []
    },
    {
      "cell_type": "markdown",
      "metadata": {
        "id": "tqN86RkPkGI5"
      },
      "source": [
        "## **Cargando el conjunto de datos**"
      ]
    },
    {
      "cell_type": "code",
      "metadata": {
        "id": "xDjf0MlO_Eir"
      },
      "source": [
        "iris = datasets.load_iris()\n",
        "iris"
      ],
      "execution_count": null,
      "outputs": []
    },
    {
      "cell_type": "markdown",
      "metadata": {
        "id": "Nt32wZkVkuWq"
      },
      "source": [
        "## **Análisis exploratorio de los datos**"
      ]
    },
    {
      "cell_type": "code",
      "metadata": {
        "id": "pXar_FzXkOPn",
        "outputId": "6a878862-2977-468b-c374-19b6f877c7c7",
        "colab": {
          "base_uri": "https://localhost:8080/",
          "height": 206
        }
      },
      "source": [
        "#Creating data frame \n",
        "Data = pd.DataFrame(iris.data, columns = iris.feature_names)\n",
        "\n",
        "#Top values of Dataset\n",
        "Data.head()"
      ],
      "execution_count": 5,
      "outputs": [
        {
          "output_type": "execute_result",
          "data": {
            "text/plain": [
              "   sepal length (cm)  sepal width (cm)  petal length (cm)  petal width (cm)\n",
              "0                5.1               3.5                1.4               0.2\n",
              "1                4.9               3.0                1.4               0.2\n",
              "2                4.7               3.2                1.3               0.2\n",
              "3                4.6               3.1                1.5               0.2\n",
              "4                5.0               3.6                1.4               0.2"
            ],
            "text/html": [
              "\n",
              "  <div id=\"df-11e8f76a-937c-4a76-ae87-1ba131e43257\">\n",
              "    <div class=\"colab-df-container\">\n",
              "      <div>\n",
              "<style scoped>\n",
              "    .dataframe tbody tr th:only-of-type {\n",
              "        vertical-align: middle;\n",
              "    }\n",
              "\n",
              "    .dataframe tbody tr th {\n",
              "        vertical-align: top;\n",
              "    }\n",
              "\n",
              "    .dataframe thead th {\n",
              "        text-align: right;\n",
              "    }\n",
              "</style>\n",
              "<table border=\"1\" class=\"dataframe\">\n",
              "  <thead>\n",
              "    <tr style=\"text-align: right;\">\n",
              "      <th></th>\n",
              "      <th>sepal length (cm)</th>\n",
              "      <th>sepal width (cm)</th>\n",
              "      <th>petal length (cm)</th>\n",
              "      <th>petal width (cm)</th>\n",
              "    </tr>\n",
              "  </thead>\n",
              "  <tbody>\n",
              "    <tr>\n",
              "      <th>0</th>\n",
              "      <td>5.1</td>\n",
              "      <td>3.5</td>\n",
              "      <td>1.4</td>\n",
              "      <td>0.2</td>\n",
              "    </tr>\n",
              "    <tr>\n",
              "      <th>1</th>\n",
              "      <td>4.9</td>\n",
              "      <td>3.0</td>\n",
              "      <td>1.4</td>\n",
              "      <td>0.2</td>\n",
              "    </tr>\n",
              "    <tr>\n",
              "      <th>2</th>\n",
              "      <td>4.7</td>\n",
              "      <td>3.2</td>\n",
              "      <td>1.3</td>\n",
              "      <td>0.2</td>\n",
              "    </tr>\n",
              "    <tr>\n",
              "      <th>3</th>\n",
              "      <td>4.6</td>\n",
              "      <td>3.1</td>\n",
              "      <td>1.5</td>\n",
              "      <td>0.2</td>\n",
              "    </tr>\n",
              "    <tr>\n",
              "      <th>4</th>\n",
              "      <td>5.0</td>\n",
              "      <td>3.6</td>\n",
              "      <td>1.4</td>\n",
              "      <td>0.2</td>\n",
              "    </tr>\n",
              "  </tbody>\n",
              "</table>\n",
              "</div>\n",
              "      <button class=\"colab-df-convert\" onclick=\"convertToInteractive('df-11e8f76a-937c-4a76-ae87-1ba131e43257')\"\n",
              "              title=\"Convert this dataframe to an interactive table.\"\n",
              "              style=\"display:none;\">\n",
              "        \n",
              "  <svg xmlns=\"http://www.w3.org/2000/svg\" height=\"24px\"viewBox=\"0 0 24 24\"\n",
              "       width=\"24px\">\n",
              "    <path d=\"M0 0h24v24H0V0z\" fill=\"none\"/>\n",
              "    <path d=\"M18.56 5.44l.94 2.06.94-2.06 2.06-.94-2.06-.94-.94-2.06-.94 2.06-2.06.94zm-11 1L8.5 8.5l.94-2.06 2.06-.94-2.06-.94L8.5 2.5l-.94 2.06-2.06.94zm10 10l.94 2.06.94-2.06 2.06-.94-2.06-.94-.94-2.06-.94 2.06-2.06.94z\"/><path d=\"M17.41 7.96l-1.37-1.37c-.4-.4-.92-.59-1.43-.59-.52 0-1.04.2-1.43.59L10.3 9.45l-7.72 7.72c-.78.78-.78 2.05 0 2.83L4 21.41c.39.39.9.59 1.41.59.51 0 1.02-.2 1.41-.59l7.78-7.78 2.81-2.81c.8-.78.8-2.07 0-2.86zM5.41 20L4 18.59l7.72-7.72 1.47 1.35L5.41 20z\"/>\n",
              "  </svg>\n",
              "      </button>\n",
              "      \n",
              "  <style>\n",
              "    .colab-df-container {\n",
              "      display:flex;\n",
              "      flex-wrap:wrap;\n",
              "      gap: 12px;\n",
              "    }\n",
              "\n",
              "    .colab-df-convert {\n",
              "      background-color: #E8F0FE;\n",
              "      border: none;\n",
              "      border-radius: 50%;\n",
              "      cursor: pointer;\n",
              "      display: none;\n",
              "      fill: #1967D2;\n",
              "      height: 32px;\n",
              "      padding: 0 0 0 0;\n",
              "      width: 32px;\n",
              "    }\n",
              "\n",
              "    .colab-df-convert:hover {\n",
              "      background-color: #E2EBFA;\n",
              "      box-shadow: 0px 1px 2px rgba(60, 64, 67, 0.3), 0px 1px 3px 1px rgba(60, 64, 67, 0.15);\n",
              "      fill: #174EA6;\n",
              "    }\n",
              "\n",
              "    [theme=dark] .colab-df-convert {\n",
              "      background-color: #3B4455;\n",
              "      fill: #D2E3FC;\n",
              "    }\n",
              "\n",
              "    [theme=dark] .colab-df-convert:hover {\n",
              "      background-color: #434B5C;\n",
              "      box-shadow: 0px 1px 3px 1px rgba(0, 0, 0, 0.15);\n",
              "      filter: drop-shadow(0px 1px 2px rgba(0, 0, 0, 0.3));\n",
              "      fill: #FFFFFF;\n",
              "    }\n",
              "  </style>\n",
              "\n",
              "      <script>\n",
              "        const buttonEl =\n",
              "          document.querySelector('#df-11e8f76a-937c-4a76-ae87-1ba131e43257 button.colab-df-convert');\n",
              "        buttonEl.style.display =\n",
              "          google.colab.kernel.accessAllowed ? 'block' : 'none';\n",
              "\n",
              "        async function convertToInteractive(key) {\n",
              "          const element = document.querySelector('#df-11e8f76a-937c-4a76-ae87-1ba131e43257');\n",
              "          const dataTable =\n",
              "            await google.colab.kernel.invokeFunction('convertToInteractive',\n",
              "                                                     [key], {});\n",
              "          if (!dataTable) return;\n",
              "\n",
              "          const docLinkHtml = 'Like what you see? Visit the ' +\n",
              "            '<a target=\"_blank\" href=https://colab.research.google.com/notebooks/data_table.ipynb>data table notebook</a>'\n",
              "            + ' to learn more about interactive tables.';\n",
              "          element.innerHTML = '';\n",
              "          dataTable['output_type'] = 'display_data';\n",
              "          await google.colab.output.renderOutput(dataTable, element);\n",
              "          const docLink = document.createElement('div');\n",
              "          docLink.innerHTML = docLinkHtml;\n",
              "          element.appendChild(docLink);\n",
              "        }\n",
              "      </script>\n",
              "    </div>\n",
              "  </div>\n",
              "  "
            ]
          },
          "metadata": {},
          "execution_count": 5
        }
      ]
    },
    {
      "cell_type": "code",
      "metadata": {
        "id": "Fcgx0VQ4lFKa",
        "outputId": "91d5a2a2-2121-4a39-90fd-709b1015bac9",
        "colab": {
          "base_uri": "https://localhost:8080/",
          "height": 204
        }
      },
      "source": [
        "#Bottom Values of Dataset\n",
        "Data.tail()"
      ],
      "execution_count": null,
      "outputs": [
        {
          "output_type": "execute_result",
          "data": {
            "text/html": [
              "<div>\n",
              "<style scoped>\n",
              "    .dataframe tbody tr th:only-of-type {\n",
              "        vertical-align: middle;\n",
              "    }\n",
              "\n",
              "    .dataframe tbody tr th {\n",
              "        vertical-align: top;\n",
              "    }\n",
              "\n",
              "    .dataframe thead th {\n",
              "        text-align: right;\n",
              "    }\n",
              "</style>\n",
              "<table border=\"1\" class=\"dataframe\">\n",
              "  <thead>\n",
              "    <tr style=\"text-align: right;\">\n",
              "      <th></th>\n",
              "      <th>sepal length (cm)</th>\n",
              "      <th>sepal width (cm)</th>\n",
              "      <th>petal length (cm)</th>\n",
              "      <th>petal width (cm)</th>\n",
              "    </tr>\n",
              "  </thead>\n",
              "  <tbody>\n",
              "    <tr>\n",
              "      <th>145</th>\n",
              "      <td>6.7</td>\n",
              "      <td>3.0</td>\n",
              "      <td>5.2</td>\n",
              "      <td>2.3</td>\n",
              "    </tr>\n",
              "    <tr>\n",
              "      <th>146</th>\n",
              "      <td>6.3</td>\n",
              "      <td>2.5</td>\n",
              "      <td>5.0</td>\n",
              "      <td>1.9</td>\n",
              "    </tr>\n",
              "    <tr>\n",
              "      <th>147</th>\n",
              "      <td>6.5</td>\n",
              "      <td>3.0</td>\n",
              "      <td>5.2</td>\n",
              "      <td>2.0</td>\n",
              "    </tr>\n",
              "    <tr>\n",
              "      <th>148</th>\n",
              "      <td>6.2</td>\n",
              "      <td>3.4</td>\n",
              "      <td>5.4</td>\n",
              "      <td>2.3</td>\n",
              "    </tr>\n",
              "    <tr>\n",
              "      <th>149</th>\n",
              "      <td>5.9</td>\n",
              "      <td>3.0</td>\n",
              "      <td>5.1</td>\n",
              "      <td>1.8</td>\n",
              "    </tr>\n",
              "  </tbody>\n",
              "</table>\n",
              "</div>"
            ],
            "text/plain": [
              "     sepal length (cm)  sepal width (cm)  petal length (cm)  petal width (cm)\n",
              "145                6.7               3.0                5.2               2.3\n",
              "146                6.3               2.5                5.0               1.9\n",
              "147                6.5               3.0                5.2               2.0\n",
              "148                6.2               3.4                5.4               2.3\n",
              "149                5.9               3.0                5.1               1.8"
            ]
          },
          "metadata": {
            "tags": []
          },
          "execution_count": 12
        }
      ]
    },
    {
      "cell_type": "code",
      "metadata": {
        "id": "xTTan0zxlYeu",
        "outputId": "652a0063-e964-4b3a-b422-449cf2e2d4f2",
        "colab": {
          "base_uri": "https://localhost:8080/"
        }
      },
      "source": [
        "# forma del conjunto de datos\n",
        "Data.shape"
      ],
      "execution_count": null,
      "outputs": [
        {
          "output_type": "execute_result",
          "data": {
            "text/plain": [
              "(150, 4)"
            ]
          },
          "metadata": {
            "tags": []
          },
          "execution_count": 14
        }
      ]
    },
    {
      "cell_type": "code",
      "metadata": {
        "id": "SIOoF2UsleTR",
        "outputId": "dda45cd1-bb30-4ef1-9a45-455608468780",
        "colab": {
          "base_uri": "https://localhost:8080/"
        }
      },
      "source": [
        "# información del conjunto de datos\n",
        "Data.info()"
      ],
      "execution_count": null,
      "outputs": [
        {
          "output_type": "stream",
          "text": [
            "<class 'pandas.core.frame.DataFrame'>\n",
            "RangeIndex: 150 entries, 0 to 149\n",
            "Data columns (total 4 columns):\n",
            " #   Column             Non-Null Count  Dtype  \n",
            "---  ------             --------------  -----  \n",
            " 0   sepal length (cm)  150 non-null    float64\n",
            " 1   sepal width (cm)   150 non-null    float64\n",
            " 2   petal length (cm)  150 non-null    float64\n",
            " 3   petal width (cm)   150 non-null    float64\n",
            "dtypes: float64(4)\n",
            "memory usage: 4.8 KB\n"
          ],
          "name": "stdout"
        }
      ]
    },
    {
      "cell_type": "code",
      "metadata": {
        "id": "XcsnRMZylmvu",
        "outputId": "d73a6775-6cd4-4e86-9850-a62ebe6275ea",
        "colab": {
          "base_uri": "https://localhost:8080/",
          "height": 297
        }
      },
      "source": [
        "# Estadísticos\n",
        "Data.describe()"
      ],
      "execution_count": null,
      "outputs": [
        {
          "output_type": "execute_result",
          "data": {
            "text/html": [
              "<div>\n",
              "<style scoped>\n",
              "    .dataframe tbody tr th:only-of-type {\n",
              "        vertical-align: middle;\n",
              "    }\n",
              "\n",
              "    .dataframe tbody tr th {\n",
              "        vertical-align: top;\n",
              "    }\n",
              "\n",
              "    .dataframe thead th {\n",
              "        text-align: right;\n",
              "    }\n",
              "</style>\n",
              "<table border=\"1\" class=\"dataframe\">\n",
              "  <thead>\n",
              "    <tr style=\"text-align: right;\">\n",
              "      <th></th>\n",
              "      <th>sepal length (cm)</th>\n",
              "      <th>sepal width (cm)</th>\n",
              "      <th>petal length (cm)</th>\n",
              "      <th>petal width (cm)</th>\n",
              "    </tr>\n",
              "  </thead>\n",
              "  <tbody>\n",
              "    <tr>\n",
              "      <th>count</th>\n",
              "      <td>150.000000</td>\n",
              "      <td>150.000000</td>\n",
              "      <td>150.000000</td>\n",
              "      <td>150.000000</td>\n",
              "    </tr>\n",
              "    <tr>\n",
              "      <th>mean</th>\n",
              "      <td>5.843333</td>\n",
              "      <td>3.057333</td>\n",
              "      <td>3.758000</td>\n",
              "      <td>1.199333</td>\n",
              "    </tr>\n",
              "    <tr>\n",
              "      <th>std</th>\n",
              "      <td>0.828066</td>\n",
              "      <td>0.435866</td>\n",
              "      <td>1.765298</td>\n",
              "      <td>0.762238</td>\n",
              "    </tr>\n",
              "    <tr>\n",
              "      <th>min</th>\n",
              "      <td>4.300000</td>\n",
              "      <td>2.000000</td>\n",
              "      <td>1.000000</td>\n",
              "      <td>0.100000</td>\n",
              "    </tr>\n",
              "    <tr>\n",
              "      <th>25%</th>\n",
              "      <td>5.100000</td>\n",
              "      <td>2.800000</td>\n",
              "      <td>1.600000</td>\n",
              "      <td>0.300000</td>\n",
              "    </tr>\n",
              "    <tr>\n",
              "      <th>50%</th>\n",
              "      <td>5.800000</td>\n",
              "      <td>3.000000</td>\n",
              "      <td>4.350000</td>\n",
              "      <td>1.300000</td>\n",
              "    </tr>\n",
              "    <tr>\n",
              "      <th>75%</th>\n",
              "      <td>6.400000</td>\n",
              "      <td>3.300000</td>\n",
              "      <td>5.100000</td>\n",
              "      <td>1.800000</td>\n",
              "    </tr>\n",
              "    <tr>\n",
              "      <th>max</th>\n",
              "      <td>7.900000</td>\n",
              "      <td>4.400000</td>\n",
              "      <td>6.900000</td>\n",
              "      <td>2.500000</td>\n",
              "    </tr>\n",
              "  </tbody>\n",
              "</table>\n",
              "</div>"
            ],
            "text/plain": [
              "       sepal length (cm)  sepal width (cm)  petal length (cm)  petal width (cm)\n",
              "count         150.000000        150.000000         150.000000        150.000000\n",
              "mean            5.843333          3.057333           3.758000          1.199333\n",
              "std             0.828066          0.435866           1.765298          0.762238\n",
              "min             4.300000          2.000000           1.000000          0.100000\n",
              "25%             5.100000          2.800000           1.600000          0.300000\n",
              "50%             5.800000          3.000000           4.350000          1.300000\n",
              "75%             6.400000          3.300000           5.100000          1.800000\n",
              "max             7.900000          4.400000           6.900000          2.500000"
            ]
          },
          "metadata": {
            "tags": []
          },
          "execution_count": 16
        }
      ]
    },
    {
      "cell_type": "code",
      "metadata": {
        "id": "JQ98rYoTohk4",
        "outputId": "ad63f8fc-2473-4074-a5d7-1cbab8baba2d",
        "colab": {
          "base_uri": "https://localhost:8080/",
          "height": 364
        }
      },
      "source": [
        "# Matriz de correlación\n",
        "sns.heatmap(Data.corr(), annot = True, linecolor='black')"
      ],
      "execution_count": 6,
      "outputs": [
        {
          "output_type": "execute_result",
          "data": {
            "text/plain": [
              "<matplotlib.axes._subplots.AxesSubplot at 0x7f5c8d362390>"
            ]
          },
          "metadata": {},
          "execution_count": 6
        },
        {
          "output_type": "display_data",
          "data": {
            "text/plain": [
              "<Figure size 432x288 with 2 Axes>"
            ],
            "image/png": "[encoded data removed]"
          },
          "metadata": {
            "needs_background": "light"
          }
        }
      ]
    },
    {
      "cell_type": "markdown",
      "metadata": {
        "id": "XZRbEmP-pAKj"
      },
      "source": [
        "## **Búsqueda de números de clusters para Kmeans**\n",
        "La idea básica de los algoritmos de clustering es la minimización de la varianza intra-cluster y la maximización de la varianza inter-cluster. Es decir, queremos que cada observación se encuentre muy cerca a las de su mismo grupo y los grupos lo más lejos posible entre ellos.\n",
        "\n",
        "El método del codo utiliza la distancia media de las observaciones a su centroide. Es decir, se fija en las distancias intra-cluster. Cuanto más grande es el número de clusters k, la varianza intra-cluster tiende a disminuir. Cuanto menor es la distancia intra-cluster mejor, ya que significa que los clústers son más compactos. El método del codo busca el valor k que satisfaga que un incremento de k, no mejore sustancialmente la distancia media intra-cluster."
      ]
    },
    {
      "cell_type": "code",
      "metadata": {
        "id": "ophemwwKoz1K",
        "outputId": "f69c5e7e-5dc5-460f-cd5a-8c16bb62cfd3",
        "colab": {
          "base_uri": "https://localhost:8080/",
          "height": 279
        }
      },
      "source": [
        "# eliminar la columna de clase para tener sólo las características en df\n",
        "new_df = Data.iloc[:,0:3].values\n",
        "\n",
        "# lista vacía para los valores de inercia (función objetivo)\n",
        "inertia = []\n",
        "\n",
        "for i in range(1,10):\n",
        "    # instanciando un modelo kmeans con i clusters\n",
        "    kmeans = KMeans(n_clusters=i)\n",
        "    \n",
        "    # Ajustando en modelo a los datos\n",
        "    kmeans.fit(new_df)\n",
        "    \n",
        "    # añadiendo el valor de la función objetivo del modelo a la lista\n",
        "    inertia.append(kmeans.inertia_)\n",
        "    \n",
        "    # Sabiendo por los datos que tenemos tres distribuciones de muestras\n",
        "    # guardemos el valor de la función objetivo para el caso k=3\n",
        "    if i == 3:\n",
        "        elbow = kmeans.inertia_\n",
        "\n",
        "# crear una lista con el número de clusters\n",
        "number_of_clusters = range(1,10)\n",
        "plt.plot(number_of_clusters, inertia)\n",
        "plt.plot(3, elbow, 'ro', label='óptimo (codo)')\n",
        "plt.legend()\n",
        "plt.xlabel('# de grupos')\n",
        "plt.ylabel('f(x)')\n",
        "plt.show()\n"
      ],
      "execution_count": 23,
      "outputs": [
        {
          "output_type": "display_data",
          "data": {
            "text/plain": [
              "<Figure size 432x288 with 1 Axes>"
            ],
            "image/png": "[encoded data removed]"
          },
          "metadata": {
            "needs_background": "light"
          }
        }
      ]
    },
    {
      "cell_type": "markdown",
      "metadata": {
        "id": "jDks_NMQrxO0"
      },
      "source": [
        "From one can clearly see that according to the elbow method most accurate value for number of cluseter is 3. "
      ]
    },
    {
      "cell_type": "markdown",
      "metadata": {
        "id": "iF-KLgBpr_7V"
      },
      "source": [
        "## **Aplicando KMeans**"
      ]
    },
    {
      "cell_type": "code",
      "metadata": {
        "id": "L2KzDZvprf6j"
      },
      "source": [
        "#Applying Kmeans \n",
        "kmeans = KMeans(n_clusters=3,init = 'k-means++', max_iter = 100, n_init = 10, random_state = 0)\n",
        "\n",
        "y_kmeans = kmeans.fit_predict(new_df)"
      ],
      "execution_count": 12,
      "outputs": []
    },
    {
      "cell_type": "code",
      "metadata": {
        "id": "iOQrOGgLvUMK"
      },
      "source": [
        "# me da la coordenada de los puntos\n",
        "kmeans.cluster_centers_"
      ],
      "execution_count": null,
      "outputs": []
    },
    {
      "cell_type": "code",
      "metadata": {
        "id": "woKwpcDwvcby",
        "outputId": "cd1d0354-b119-4f17-dd2c-fb93c7068eb3",
        "colab": {
          "base_uri": "https://localhost:8080/",
          "height": 609
        }
      },
      "source": [
        "# Visualización de los clusters - En las dos primeras columnas\n",
        "plt.figure(figsize=(10,10))\n",
        "plt.scatter(new_df[y_kmeans == 0, 0], new_df[y_kmeans == 0, 1], s = 100, c = 'red', label = 'Iris-setosa')\n",
        "plt.scatter(new_df[y_kmeans == 1, 0], new_df[y_kmeans == 1, 1], s = 100, c = 'blue', label = 'Iris-versicolour')\n",
        "plt.scatter(new_df[y_kmeans == 2, 0], new_df[y_kmeans == 2, 1], s = 100, c = 'green', label = 'Iris-virginica')\n",
        "\n",
        "# Trazar los centroides de los clusters\n",
        "plt.scatter(kmeans.cluster_centers_[:, 0], kmeans.cluster_centers_[:,1], \n",
        "            s = 100, c = 'pink', label = 'Centroids')\n",
        "\n",
        "plt.legend()"
      ],
      "execution_count": 20,
      "outputs": [
        {
          "output_type": "execute_result",
          "data": {
            "text/plain": [
              "<matplotlib.legend.Legend at 0x7f5c89107a10>"
            ]
          },
          "metadata": {},
          "execution_count": 20
        },
        {
          "output_type": "display_data",
          "data": {
            "text/plain": [
              "<Figure size 720x720 with 1 Axes>"
            ],
            "image/png": "[encoded data removed]"
          },
          "metadata": {
            "needs_background": "light"
          }
        }
      ]
    }
  ]
}