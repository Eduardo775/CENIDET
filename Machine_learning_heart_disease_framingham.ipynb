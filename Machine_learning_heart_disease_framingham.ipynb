{
  "metadata": {
    "kernelspec": {
      "language": "python",
      "display_name": "Python 3",
      "name": "python3"
    },
    "language_info": {
      "pygments_lexer": "ipython3",
      "nbconvert_exporter": "python",
      "version": "3.6.4",
      "file_extension": ".py",
      "codemirror_mode": {
        "name": "ipython",
        "version": 3
      },
      "name": "python",
      "mimetype": "text/x-python"
    },
    "colab": {
      "provenance": [],
      "collapsed_sections": [],
      "include_colab_link": true
    }
  },
  "nbformat_minor": 0,
  "nbformat": 4,
  "cells": [
    {
      "cell_type": "markdown",
      "metadata": {
        "id": "view-in-github",
        "colab_type": "text"
      },
      "source": [
        "<a href=\"https://colab.research.google.com/github/Eduardo775/CENIDET/blob/main/Machine_learning_heart_disease_framingham.ipynb\" target=\"_parent\"><img src=\"https://colab.research.google.com/assets/colab-badge.svg\" alt=\"Open In Colab\"/></a>"
      ]
    },
    {
      "cell_type": "code",
      "source": [
        "# This Python 3 environment comes with many helpful analytics libraries installed\n",
        "# It is defined by the kaggle/python docker image: https://github.com/kaggle/docker-python\n",
        "# For example, here's several helpful packages to load in \n",
        "\n",
        "import numpy as np # linear algebra\n",
        "import pandas as pd # data processing, CSV file I/O (e.g. pd.read_csv)\n",
        "\n",
        "# Input data files are available in the \"../input/\" directory.\n",
        "# For example, running this (by clicking run or pressing Shift+Enter) will list all files under the input directory\n",
        "\n",
        "import os\n",
        "for dirname, _, filenames in os.walk('/kaggle/input'):\n",
        "    for filename in filenames:\n",
        "        print(os.path.join(dirname, filename))\n",
        "\n",
        "# Any results you write to the current directory are saved as output."
      ],
      "metadata": {
        "_uuid": "8f2839f25d086af736a60e9eeb907d3b93b6e0e5",
        "_cell_guid": "b1076dfc-b9ad-4769-8c92-a6c4dae69d19",
        "trusted": true,
        "id": "zAW0NUDoeoxc"
      },
      "execution_count": null,
      "outputs": []
    },
    {
      "cell_type": "markdown",
      "source": [
        "# Heart Disease Prediction\n",
        "### ¿Tendrá un paciente un riesgo de 10 años de desarrollar una enfermedad cardiovascular?\n",
        "\n",
        "### Tabla of contents\n",
        "1. [Introduction](#introduction)\n",
        "2. [Exploratory Data Analysis](#paragraph1)\n",
        "3. [Feature Selection](#paragraph2)\n",
        "4. [Feature Scaling](#paragraph3)\n",
        "5. [Test - Train Split](#paragraph4)\n",
        "6. [Resampling](#paragraph5)\n",
        "7. [Model Pipeline](#paragraph6)\n",
        "8. [Modelling & Evaluation](#paragraph7)\n",
        "9. [Apply model](#paragraph8)\n",
        "\n",
        "## Introduction <a name=\"introduction\"></a>\n",
        "\n",
        "**Problem:**\n",
        "The World Health Organization has estimated 12 million deaths occur worldwide, every year due to Heart diseases. Half the deaths in the United States and other developed countries are due to cardiovascular diseases. The early prognosis of cardiovascular diseases can aid in making decisions on lifestyle changes in high risk patients and in turn reduce the complications. This research intends to pinpoint the most relevant/risk factors of heart disease as well as predict the overall risk using logistic regression Data Preparation\n",
        "\n",
        "**Source:**\n",
        "The dataset is publically available on the Kaggle website, and it is from an ongoing cardiovascular study on residents of the town of Framingham, Massachusetts. The classification goal is to predict whether the patient has 10-year risk of future coronary heart disease (CHD).The dataset provides the patients’ information. It includes over 4,000 records and 15 attributes. Variables Each attribute is a potential risk factor. There are both demographic, behavioral and medical risk factors.\n",
        "\n",
        "**Attributes:**\n",
        "\n",
        "#### Demographic: \n",
        "* Sex: male or female(Nominal) \n",
        "* Age: Age of the patient;(Continuous - Although the recorded ages have been truncated to whole numbers, the concept of age is continuous) \n",
        "* Education: no further information provided\n",
        "\n",
        "#### Behavioral: \n",
        "* Current Smoker: whether or not the patient is a current smoker (Nominal) \n",
        "* Cigs Per Day: the number of cigarettes that the person smoked on average in one day.(can be considered continuous as one can have any number of cigarettes, even half a cigarette.) \n",
        "\n",
        "#### Information on medical history: \n",
        "* BP Meds: whether or not the patient was on blood pressure medication (Nominal) \n",
        "* Prevalent Stroke (Accidente cerebrovascular prevalente:): whether or not the patient had previously had a stroke (Nominal) \n",
        "* Prevalent Hyp: whether or not the patient was hypertensive (Nominal) \n",
        "* Diabetes: whether or not the patient had diabetes (Nominal) \n",
        "\n",
        "#### Information on current medical condition: \n",
        "* Tot Chol: total cholesterol level (Continuous) \n",
        "* Sys BP: systolic blood pressure (Continuous) \n",
        "* Dia BP: diastolic blood pressure (Continuous) \n",
        "* BMI: Body Mass Index (Continuous) \n",
        "* Heart Rate: heart rate (Continuous - In medical research, variables such as heart rate though in fact discrete, yet are considered continuous because of large number of possible values.) \n",
        "* Glucose: glucose level (Continuous) \n",
        "\n",
        "#### Target variable to predict: \n",
        "* 10 year risk of coronary heart disease (CHD) - (binary: “1”, means “Yes”, “0” means “No”)\n"
      ],
      "metadata": {
        "id": "lPeyEUB1eoxk"
      }
    },
    {
      "cell_type": "code",
      "source": [
        "# importing libraries and magic functions\n",
        "\n",
        "import seaborn as sns\n",
        "import matplotlib.pyplot as plt\n",
        "\n",
        "from sklearn.preprocessing import MinMaxScaler\n",
        "from sklearn.model_selection import train_test_split\n",
        "\n",
        "from sklearn.linear_model import LogisticRegression\n",
        "from sklearn.svm import SVC\n",
        "from sklearn.tree import DecisionTreeClassifier\n",
        "from sklearn.neighbors import KNeighborsClassifier\n",
        "from sklearn.model_selection import GridSearchCV\n",
        "from sklearn.model_selection import cross_val_score\n",
        "\n",
        "from sklearn.metrics import confusion_matrix\n",
        "from sklearn.metrics import accuracy_score\n",
        "from sklearn.metrics import f1_score\n",
        "from sklearn.metrics import recall_score\n",
        "from sklearn.metrics import precision_score\n",
        "from sklearn.metrics import roc_curve\n",
        "from sklearn.metrics import roc_auc_score\n",
        "\n",
        "from IPython.core.interactiveshell import InteractiveShell\n",
        "InteractiveShell.ast_node_interactivity = \"all\"\n",
        "%config InlineBackend.figure_format ='retina'\n",
        "%matplotlib inline"
      ],
      "metadata": {
        "trusted": true,
        "id": "zumZgYOceoxp"
      },
      "execution_count": null,
      "outputs": []
    },
    {
      "cell_type": "markdown",
      "source": [
        "## Análisis Exploratorio de Datos <a name=\"paragraph1\"></a>"
      ],
      "metadata": {
        "id": "OSO-ICmreoxr"
      }
    },
    {
      "cell_type": "code",
      "source": [
        "# read data\n",
        "df = pd.read_csv('./sample_data/Framingham.csv')\n",
        "\n",
        "# first glimpse at data\n",
        "df.head(20)\n",
        "\n",
        "# data shape\n",
        "df.shape\n",
        "\n",
        "# data types\n",
        "df.dtypes"
      ],
      "metadata": {
        "_uuid": "d629ff2d2480ee46fbb7e2d37f6b5fab8052498a",
        "_cell_guid": "79c7e3d0-c299-4dcb-8224-4455121ee9b0",
        "trusted": true,
        "colab": {
          "base_uri": "https://localhost:8080/",
          "height": 1000
        },
        "id": "p0kidRHZeoxs",
        "outputId": "093f99e3-8d77-482c-87c9-811a477fd147"
      },
      "execution_count": null,
      "outputs": [
        {
          "output_type": "execute_result",
          "data": {
            "text/plain": [
              "    male  age  education  currentSmoker  cigsPerDay  BPMeds  prevalentStroke  \\\n",
              "0      1   39        4.0              0         0.0     0.0                0   \n",
              "1      0   46        2.0              0         0.0     0.0                0   \n",
              "2      1   48        1.0              1        20.0     0.0                0   \n",
              "3      0   61        3.0              1        30.0     0.0                0   \n",
              "4      0   46        3.0              1        23.0     0.0                0   \n",
              "5      0   43        2.0              0         0.0     0.0                0   \n",
              "6      0   63        1.0              0         0.0     0.0                0   \n",
              "7      0   45        2.0              1        20.0     0.0                0   \n",
              "8      1   52        1.0              0         0.0     0.0                0   \n",
              "9      1   43        1.0              1        30.0     0.0                0   \n",
              "10     0   50        1.0              0         0.0     0.0                0   \n",
              "11     0   43        2.0              0         0.0     0.0                0   \n",
              "12     1   46        1.0              1        15.0     0.0                0   \n",
              "13     0   41        3.0              0         0.0     1.0                0   \n",
              "14     0   39        2.0              1         9.0     0.0                0   \n",
              "15     0   38        2.0              1        20.0     0.0                0   \n",
              "16     1   48        3.0              1        10.0     0.0                0   \n",
              "17     0   46        2.0              1        20.0     0.0                0   \n",
              "18     0   38        2.0              1         5.0     0.0                0   \n",
              "19     1   41        2.0              0         0.0     0.0                0   \n",
              "\n",
              "    prevalentHyp  diabetes  totChol  sysBP  diaBP    BMI  heartRate  glucose  \\\n",
              "0              0         0    195.0  106.0   70.0  26.97       80.0     77.0   \n",
              "1              0         0    250.0  121.0   81.0  28.73       95.0     76.0   \n",
              "2              0         0    245.0  127.5   80.0  25.34       75.0     70.0   \n",
              "3              1         0    225.0  150.0   95.0  28.58       65.0    103.0   \n",
              "4              0         0    285.0  130.0   84.0  23.10       85.0     85.0   \n",
              "5              1         0    228.0  180.0  110.0  30.30       77.0     99.0   \n",
              "6              0         0    205.0  138.0   71.0  33.11       60.0     85.0   \n",
              "7              0         0    313.0  100.0   71.0  21.68       79.0     78.0   \n",
              "8              1         0    260.0  141.5   89.0  26.36       76.0     79.0   \n",
              "9              1         0    225.0  162.0  107.0  23.61       93.0     88.0   \n",
              "10             0         0    254.0  133.0   76.0  22.91       75.0     76.0   \n",
              "11             0         0    247.0  131.0   88.0  27.64       72.0     61.0   \n",
              "12             1         0    294.0  142.0   94.0  26.31       98.0     64.0   \n",
              "13             1         0    332.0  124.0   88.0  31.31       65.0     84.0   \n",
              "14             0         0    226.0  114.0   64.0  22.35       85.0      NaN   \n",
              "15             1         0    221.0  140.0   90.0  21.35       95.0     70.0   \n",
              "16             1         0    232.0  138.0   90.0  22.37       64.0     72.0   \n",
              "17             0         0    291.0  112.0   78.0  23.38       80.0     89.0   \n",
              "18             0         0    195.0  122.0   84.5  23.24       75.0     78.0   \n",
              "19             0         0    195.0  139.0   88.0  26.88       85.0     65.0   \n",
              "\n",
              "    TenYearCHD  \n",
              "0            0  \n",
              "1            0  \n",
              "2            0  \n",
              "3            1  \n",
              "4            0  \n",
              "5            0  \n",
              "6            1  \n",
              "7            0  \n",
              "8            0  \n",
              "9            0  \n",
              "10           0  \n",
              "11           0  \n",
              "12           0  \n",
              "13           0  \n",
              "14           0  \n",
              "15           1  \n",
              "16           0  \n",
              "17           1  \n",
              "18           0  \n",
              "19           0  "
            ],
            "text/html": [
              "\n",
              "  <div id=\"df-bb1986bf-c7bc-496f-8ba5-985211789055\">\n",
              "    <div class=\"colab-df-container\">\n",
              "      <div>\n",
              "<style scoped>\n",
              "    .dataframe tbody tr th:only-of-type {\n",
              "        vertical-align: middle;\n",
              "    }\n",
              "\n",
              "    .dataframe tbody tr th {\n",
              "        vertical-align: top;\n",
              "    }\n",
              "\n",
              "    .dataframe thead th {\n",
              "        text-align: right;\n",
              "    }\n",
              "</style>\n",
              "<table border=\"1\" class=\"dataframe\">\n",
              "  <thead>\n",
              "    <tr style=\"text-align: right;\">\n",
              "      <th></th>\n",
              "      <th>male</th>\n",
              "      <th>age</th>\n",
              "      <th>education</th>\n",
              "      <th>currentSmoker</th>\n",
              "      <th>cigsPerDay</th>\n",
              "      <th>BPMeds</th>\n",
              "      <th>prevalentStroke</th>\n",
              "      <th>prevalentHyp</th>\n",
              "      <th>diabetes</th>\n",
              "      <th>totChol</th>\n",
              "      <th>sysBP</th>\n",
              "      <th>diaBP</th>\n",
              "      <th>BMI</th>\n",
              "      <th>heartRate</th>\n",
              "      <th>glucose</th>\n",
              "      <th>TenYearCHD</th>\n",
              "    </tr>\n",
              "  </thead>\n",
              "  <tbody>\n",
              "    <tr>\n",
              "      <th>0</th>\n",
              "      <td>1</td>\n",
              "      <td>39</td>\n",
              "      <td>4.0</td>\n",
              "      <td>0</td>\n",
              "      <td>0.0</td>\n",
              "      <td>0.0</td>\n",
              "      <td>0</td>\n",
              "      <td>0</td>\n",
              "      <td>0</td>\n",
              "      <td>195.0</td>\n",
              "      <td>106.0</td>\n",
              "      <td>70.0</td>\n",
              "      <td>26.97</td>\n",
              "      <td>80.0</td>\n",
              "      <td>77.0</td>\n",
              "      <td>0</td>\n",
              "    </tr>\n",
              "    <tr>\n",
              "      <th>1</th>\n",
              "      <td>0</td>\n",
              "      <td>46</td>\n",
              "      <td>2.0</td>\n",
              "      <td>0</td>\n",
              "      <td>0.0</td>\n",
              "      <td>0.0</td>\n",
              "      <td>0</td>\n",
              "      <td>0</td>\n",
              "      <td>0</td>\n",
              "      <td>250.0</td>\n",
              "      <td>121.0</td>\n",
              "      <td>81.0</td>\n",
              "      <td>28.73</td>\n",
              "      <td>95.0</td>\n",
              "      <td>76.0</td>\n",
              "      <td>0</td>\n",
              "    </tr>\n",
              "    <tr>\n",
              "      <th>2</th>\n",
              "      <td>1</td>\n",
              "      <td>48</td>\n",
              "      <td>1.0</td>\n",
              "      <td>1</td>\n",
              "      <td>20.0</td>\n",
              "      <td>0.0</td>\n",
              "      <td>0</td>\n",
              "      <td>0</td>\n",
              "      <td>0</td>\n",
              "      <td>245.0</td>\n",
              "      <td>127.5</td>\n",
              "      <td>80.0</td>\n",
              "      <td>25.34</td>\n",
              "      <td>75.0</td>\n",
              "      <td>70.0</td>\n",
              "      <td>0</td>\n",
              "    </tr>\n",
              "    <tr>\n",
              "      <th>3</th>\n",
              "      <td>0</td>\n",
              "      <td>61</td>\n",
              "      <td>3.0</td>\n",
              "      <td>1</td>\n",
              "      <td>30.0</td>\n",
              "      <td>0.0</td>\n",
              "      <td>0</td>\n",
              "      <td>1</td>\n",
              "      <td>0</td>\n",
              "      <td>225.0</td>\n",
              "      <td>150.0</td>\n",
              "      <td>95.0</td>\n",
              "      <td>28.58</td>\n",
              "      <td>65.0</td>\n",
              "      <td>103.0</td>\n",
              "      <td>1</td>\n",
              "    </tr>\n",
              "    <tr>\n",
              "      <th>4</th>\n",
              "      <td>0</td>\n",
              "      <td>46</td>\n",
              "      <td>3.0</td>\n",
              "      <td>1</td>\n",
              "      <td>23.0</td>\n",
              "      <td>0.0</td>\n",
              "      <td>0</td>\n",
              "      <td>0</td>\n",
              "      <td>0</td>\n",
              "      <td>285.0</td>\n",
              "      <td>130.0</td>\n",
              "      <td>84.0</td>\n",
              "      <td>23.10</td>\n",
              "      <td>85.0</td>\n",
              "      <td>85.0</td>\n",
              "      <td>0</td>\n",
              "    </tr>\n",
              "    <tr>\n",
              "      <th>5</th>\n",
              "      <td>0</td>\n",
              "      <td>43</td>\n",
              "      <td>2.0</td>\n",
              "      <td>0</td>\n",
              "      <td>0.0</td>\n",
              "      <td>0.0</td>\n",
              "      <td>0</td>\n",
              "      <td>1</td>\n",
              "      <td>0</td>\n",
              "      <td>228.0</td>\n",
              "      <td>180.0</td>\n",
              "      <td>110.0</td>\n",
              "      <td>30.30</td>\n",
              "      <td>77.0</td>\n",
              "      <td>99.0</td>\n",
              "      <td>0</td>\n",
              "    </tr>\n",
              "    <tr>\n",
              "      <th>6</th>\n",
              "      <td>0</td>\n",
              "      <td>63</td>\n",
              "      <td>1.0</td>\n",
              "      <td>0</td>\n",
              "      <td>0.0</td>\n",
              "      <td>0.0</td>\n",
              "      <td>0</td>\n",
              "      <td>0</td>\n",
              "      <td>0</td>\n",
              "      <td>205.0</td>\n",
              "      <td>138.0</td>\n",
              "      <td>71.0</td>\n",
              "      <td>33.11</td>\n",
              "      <td>60.0</td>\n",
              "      <td>85.0</td>\n",
              "      <td>1</td>\n",
              "    </tr>\n",
              "    <tr>\n",
              "      <th>7</th>\n",
              "      <td>0</td>\n",
              "      <td>45</td>\n",
              "      <td>2.0</td>\n",
              "      <td>1</td>\n",
              "      <td>20.0</td>\n",
              "      <td>0.0</td>\n",
              "      <td>0</td>\n",
              "      <td>0</td>\n",
              "      <td>0</td>\n",
              "      <td>313.0</td>\n",
              "      <td>100.0</td>\n",
              "      <td>71.0</td>\n",
              "      <td>21.68</td>\n",
              "      <td>79.0</td>\n",
              "      <td>78.0</td>\n",
              "      <td>0</td>\n",
              "    </tr>\n",
              "    <tr>\n",
              "      <th>8</th>\n",
              "      <td>1</td>\n",
              "      <td>52</td>\n",
              "      <td>1.0</td>\n",
              "      <td>0</td>\n",
              "      <td>0.0</td>\n",
              "      <td>0.0</td>\n",
              "      <td>0</td>\n",
              "      <td>1</td>\n",
              "      <td>0</td>\n",
              "      <td>260.0</td>\n",
              "      <td>141.5</td>\n",
              "      <td>89.0</td>\n",
              "      <td>26.36</td>\n",
              "      <td>76.0</td>\n",
              "      <td>79.0</td>\n",
              "      <td>0</td>\n",
              "    </tr>\n",
              "    <tr>\n",
              "      <th>9</th>\n",
              "      <td>1</td>\n",
              "      <td>43</td>\n",
              "      <td>1.0</td>\n",
              "      <td>1</td>\n",
              "      <td>30.0</td>\n",
              "      <td>0.0</td>\n",
              "      <td>0</td>\n",
              "      <td>1</td>\n",
              "      <td>0</td>\n",
              "      <td>225.0</td>\n",
              "      <td>162.0</td>\n",
              "      <td>107.0</td>\n",
              "      <td>23.61</td>\n",
              "      <td>93.0</td>\n",
              "      <td>88.0</td>\n",
              "      <td>0</td>\n",
              "    </tr>\n",
              "    <tr>\n",
              "      <th>10</th>\n",
              "      <td>0</td>\n",
              "      <td>50</td>\n",
              "      <td>1.0</td>\n",
              "      <td>0</td>\n",
              "      <td>0.0</td>\n",
              "      <td>0.0</td>\n",
              "      <td>0</td>\n",
              "      <td>0</td>\n",
              "      <td>0</td>\n",
              "      <td>254.0</td>\n",
              "      <td>133.0</td>\n",
              "      <td>76.0</td>\n",
              "      <td>22.91</td>\n",
              "      <td>75.0</td>\n",
              "      <td>76.0</td>\n",
              "      <td>0</td>\n",
              "    </tr>\n",
              "    <tr>\n",
              "      <th>11</th>\n",
              "      <td>0</td>\n",
              "      <td>43</td>\n",
              "      <td>2.0</td>\n",
              "      <td>0</td>\n",
              "      <td>0.0</td>\n",
              "      <td>0.0</td>\n",
              "      <td>0</td>\n",
              "      <td>0</td>\n",
              "      <td>0</td>\n",
              "      <td>247.0</td>\n",
              "      <td>131.0</td>\n",
              "      <td>88.0</td>\n",
              "      <td>27.64</td>\n",
              "      <td>72.0</td>\n",
              "      <td>61.0</td>\n",
              "      <td>0</td>\n",
              "    </tr>\n",
              "    <tr>\n",
              "      <th>12</th>\n",
              "      <td>1</td>\n",
              "      <td>46</td>\n",
              "      <td>1.0</td>\n",
              "      <td>1</td>\n",
              "      <td>15.0</td>\n",
              "      <td>0.0</td>\n",
              "      <td>0</td>\n",
              "      <td>1</td>\n",
              "      <td>0</td>\n",
              "      <td>294.0</td>\n",
              "      <td>142.0</td>\n",
              "      <td>94.0</td>\n",
              "      <td>26.31</td>\n",
              "      <td>98.0</td>\n",
              "      <td>64.0</td>\n",
              "      <td>0</td>\n",
              "    </tr>\n",
              "    <tr>\n",
              "      <th>13</th>\n",
              "      <td>0</td>\n",
              "      <td>41</td>\n",
              "      <td>3.0</td>\n",
              "      <td>0</td>\n",
              "      <td>0.0</td>\n",
              "      <td>1.0</td>\n",
              "      <td>0</td>\n",
              "      <td>1</td>\n",
              "      <td>0</td>\n",
              "      <td>332.0</td>\n",
              "      <td>124.0</td>\n",
              "      <td>88.0</td>\n",
              "      <td>31.31</td>\n",
              "      <td>65.0</td>\n",
              "      <td>84.0</td>\n",
              "      <td>0</td>\n",
              "    </tr>\n",
              "    <tr>\n",
              "      <th>14</th>\n",
              "      <td>0</td>\n",
              "      <td>39</td>\n",
              "      <td>2.0</td>\n",
              "      <td>1</td>\n",
              "      <td>9.0</td>\n",
              "      <td>0.0</td>\n",
              "      <td>0</td>\n",
              "      <td>0</td>\n",
              "      <td>0</td>\n",
              "      <td>226.0</td>\n",
              "      <td>114.0</td>\n",
              "      <td>64.0</td>\n",
              "      <td>22.35</td>\n",
              "      <td>85.0</td>\n",
              "      <td>NaN</td>\n",
              "      <td>0</td>\n",
              "    </tr>\n",
              "    <tr>\n",
              "      <th>15</th>\n",
              "      <td>0</td>\n",
              "      <td>38</td>\n",
              "      <td>2.0</td>\n",
              "      <td>1</td>\n",
              "      <td>20.0</td>\n",
              "      <td>0.0</td>\n",
              "      <td>0</td>\n",
              "      <td>1</td>\n",
              "      <td>0</td>\n",
              "      <td>221.0</td>\n",
              "      <td>140.0</td>\n",
              "      <td>90.0</td>\n",
              "      <td>21.35</td>\n",
              "      <td>95.0</td>\n",
              "      <td>70.0</td>\n",
              "      <td>1</td>\n",
              "    </tr>\n",
              "    <tr>\n",
              "      <th>16</th>\n",
              "      <td>1</td>\n",
              "      <td>48</td>\n",
              "      <td>3.0</td>\n",
              "      <td>1</td>\n",
              "      <td>10.0</td>\n",
              "      <td>0.0</td>\n",
              "      <td>0</td>\n",
              "      <td>1</td>\n",
              "      <td>0</td>\n",
              "      <td>232.0</td>\n",
              "      <td>138.0</td>\n",
              "      <td>90.0</td>\n",
              "      <td>22.37</td>\n",
              "      <td>64.0</td>\n",
              "      <td>72.0</td>\n",
              "      <td>0</td>\n",
              "    </tr>\n",
              "    <tr>\n",
              "      <th>17</th>\n",
              "      <td>0</td>\n",
              "      <td>46</td>\n",
              "      <td>2.0</td>\n",
              "      <td>1</td>\n",
              "      <td>20.0</td>\n",
              "      <td>0.0</td>\n",
              "      <td>0</td>\n",
              "      <td>0</td>\n",
              "      <td>0</td>\n",
              "      <td>291.0</td>\n",
              "      <td>112.0</td>\n",
              "      <td>78.0</td>\n",
              "      <td>23.38</td>\n",
              "      <td>80.0</td>\n",
              "      <td>89.0</td>\n",
              "      <td>1</td>\n",
              "    </tr>\n",
              "    <tr>\n",
              "      <th>18</th>\n",
              "      <td>0</td>\n",
              "      <td>38</td>\n",
              "      <td>2.0</td>\n",
              "      <td>1</td>\n",
              "      <td>5.0</td>\n",
              "      <td>0.0</td>\n",
              "      <td>0</td>\n",
              "      <td>0</td>\n",
              "      <td>0</td>\n",
              "      <td>195.0</td>\n",
              "      <td>122.0</td>\n",
              "      <td>84.5</td>\n",
              "      <td>23.24</td>\n",
              "      <td>75.0</td>\n",
              "      <td>78.0</td>\n",
              "      <td>0</td>\n",
              "    </tr>\n",
              "    <tr>\n",
              "      <th>19</th>\n",
              "      <td>1</td>\n",
              "      <td>41</td>\n",
              "      <td>2.0</td>\n",
              "      <td>0</td>\n",
              "      <td>0.0</td>\n",
              "      <td>0.0</td>\n",
              "      <td>0</td>\n",
              "      <td>0</td>\n",
              "      <td>0</td>\n",
              "      <td>195.0</td>\n",
              "      <td>139.0</td>\n",
              "      <td>88.0</td>\n",
              "      <td>26.88</td>\n",
              "      <td>85.0</td>\n",
              "      <td>65.0</td>\n",
              "      <td>0</td>\n",
              "    </tr>\n",
              "  </tbody>\n",
              "</table>\n",
              "</div>\n",
              "      <button class=\"colab-df-convert\" onclick=\"convertToInteractive('df-bb1986bf-c7bc-496f-8ba5-985211789055')\"\n",
              "              title=\"Convert this dataframe to an interactive table.\"\n",
              "              style=\"display:none;\">\n",
              "        \n",
              "  <svg xmlns=\"http://www.w3.org/2000/svg\" height=\"24px\"viewBox=\"0 0 24 24\"\n",
              "       width=\"24px\">\n",
              "    <path d=\"M0 0h24v24H0V0z\" fill=\"none\"/>\n",
              "    <path d=\"M18.56 5.44l.94 2.06.94-2.06 2.06-.94-2.06-.94-.94-2.06-.94 2.06-2.06.94zm-11 1L8.5 8.5l.94-2.06 2.06-.94-2.06-.94L8.5 2.5l-.94 2.06-2.06.94zm10 10l.94 2.06.94-2.06 2.06-.94-2.06-.94-.94-2.06-.94 2.06-2.06.94z\"/><path d=\"M17.41 7.96l-1.37-1.37c-.4-.4-.92-.59-1.43-.59-.52 0-1.04.2-1.43.59L10.3 9.45l-7.72 7.72c-.78.78-.78 2.05 0 2.83L4 21.41c.39.39.9.59 1.41.59.51 0 1.02-.2 1.41-.59l7.78-7.78 2.81-2.81c.8-.78.8-2.07 0-2.86zM5.41 20L4 18.59l7.72-7.72 1.47 1.35L5.41 20z\"/>\n",
              "  </svg>\n",
              "      </button>\n",
              "      \n",
              "  <style>\n",
              "    .colab-df-container {\n",
              "      display:flex;\n",
              "      flex-wrap:wrap;\n",
              "      gap: 12px;\n",
              "    }\n",
              "\n",
              "    .colab-df-convert {\n",
              "      background-color: #E8F0FE;\n",
              "      border: none;\n",
              "      border-radius: 50%;\n",
              "      cursor: pointer;\n",
              "      display: none;\n",
              "      fill: #1967D2;\n",
              "      height: 32px;\n",
              "      padding: 0 0 0 0;\n",
              "      width: 32px;\n",
              "    }\n",
              "\n",
              "    .colab-df-convert:hover {\n",
              "      background-color: #E2EBFA;\n",
              "      box-shadow: 0px 1px 2px rgba(60, 64, 67, 0.3), 0px 1px 3px 1px rgba(60, 64, 67, 0.15);\n",
              "      fill: #174EA6;\n",
              "    }\n",
              "\n",
              "    [theme=dark] .colab-df-convert {\n",
              "      background-color: #3B4455;\n",
              "      fill: #D2E3FC;\n",
              "    }\n",
              "\n",
              "    [theme=dark] .colab-df-convert:hover {\n",
              "      background-color: #434B5C;\n",
              "      box-shadow: 0px 1px 3px 1px rgba(0, 0, 0, 0.15);\n",
              "      filter: drop-shadow(0px 1px 2px rgba(0, 0, 0, 0.3));\n",
              "      fill: #FFFFFF;\n",
              "    }\n",
              "  </style>\n",
              "\n",
              "      <script>\n",
              "        const buttonEl =\n",
              "          document.querySelector('#df-bb1986bf-c7bc-496f-8ba5-985211789055 button.colab-df-convert');\n",
              "        buttonEl.style.display =\n",
              "          google.colab.kernel.accessAllowed ? 'block' : 'none';\n",
              "\n",
              "        async function convertToInteractive(key) {\n",
              "          const element = document.querySelector('#df-bb1986bf-c7bc-496f-8ba5-985211789055');\n",
              "          const dataTable =\n",
              "            await google.colab.kernel.invokeFunction('convertToInteractive',\n",
              "                                                     [key], {});\n",
              "          if (!dataTable) return;\n",
              "\n",
              "          const docLinkHtml = 'Like what you see? Visit the ' +\n",
              "            '<a target=\"_blank\" href=https://colab.research.google.com/notebooks/data_table.ipynb>data table notebook</a>'\n",
              "            + ' to learn more about interactive tables.';\n",
              "          element.innerHTML = '';\n",
              "          dataTable['output_type'] = 'display_data';\n",
              "          await google.colab.output.renderOutput(dataTable, element);\n",
              "          const docLink = document.createElement('div');\n",
              "          docLink.innerHTML = docLinkHtml;\n",
              "          element.appendChild(docLink);\n",
              "        }\n",
              "      </script>\n",
              "    </div>\n",
              "  </div>\n",
              "  "
            ]
          },
          "metadata": {},
          "execution_count": 8
        },
        {
          "output_type": "execute_result",
          "data": {
            "text/plain": [
              "(4240, 16)"
            ]
          },
          "metadata": {},
          "execution_count": 8
        },
        {
          "output_type": "execute_result",
          "data": {
            "text/plain": [
              "male                 int64\n",
              "age                  int64\n",
              "education          float64\n",
              "currentSmoker        int64\n",
              "cigsPerDay         float64\n",
              "BPMeds             float64\n",
              "prevalentStroke      int64\n",
              "prevalentHyp         int64\n",
              "diabetes             int64\n",
              "totChol            float64\n",
              "sysBP              float64\n",
              "diaBP              float64\n",
              "BMI                float64\n",
              "heartRate          float64\n",
              "glucose            float64\n",
              "TenYearCHD           int64\n",
              "dtype: object"
            ]
          },
          "metadata": {},
          "execution_count": 8
        }
      ]
    },
    {
      "cell_type": "code",
      "source": [
        "# check for dupicates\n",
        "duplicate_df = df[df.duplicated()]\n",
        "duplicate_df"
      ],
      "metadata": {
        "trusted": true,
        "colab": {
          "base_uri": "https://localhost:8080/",
          "height": 93
        },
        "id": "MUjfZsqVeoxu",
        "outputId": "593d9e88-6748-4816-987a-78c07c76e9d5"
      },
      "execution_count": null,
      "outputs": [
        {
          "output_type": "execute_result",
          "data": {
            "text/plain": [
              "Empty DataFrame\n",
              "Columns: [male, age, education, currentSmoker, cigsPerDay, BPMeds, prevalentStroke, prevalentHyp, diabetes, totChol, sysBP, diaBP, BMI, heartRate, glucose, TenYearCHD]\n",
              "Index: []"
            ],
            "text/html": [
              "\n",
              "  <div id=\"df-be044d1d-d147-4e62-b99d-b5534592c57e\">\n",
              "    <div class=\"colab-df-container\">\n",
              "      <div>\n",
              "<style scoped>\n",
              "    .dataframe tbody tr th:only-of-type {\n",
              "        vertical-align: middle;\n",
              "    }\n",
              "\n",
              "    .dataframe tbody tr th {\n",
              "        vertical-align: top;\n",
              "    }\n",
              "\n",
              "    .dataframe thead th {\n",
              "        text-align: right;\n",
              "    }\n",
              "</style>\n",
              "<table border=\"1\" class=\"dataframe\">\n",
              "  <thead>\n",
              "    <tr style=\"text-align: right;\">\n",
              "      <th></th>\n",
              "      <th>male</th>\n",
              "      <th>age</th>\n",
              "      <th>education</th>\n",
              "      <th>currentSmoker</th>\n",
              "      <th>cigsPerDay</th>\n",
              "      <th>BPMeds</th>\n",
              "      <th>prevalentStroke</th>\n",
              "      <th>prevalentHyp</th>\n",
              "      <th>diabetes</th>\n",
              "      <th>totChol</th>\n",
              "      <th>sysBP</th>\n",
              "      <th>diaBP</th>\n",
              "      <th>BMI</th>\n",
              "      <th>heartRate</th>\n",
              "      <th>glucose</th>\n",
              "      <th>TenYearCHD</th>\n",
              "    </tr>\n",
              "  </thead>\n",
              "  <tbody>\n",
              "  </tbody>\n",
              "</table>\n",
              "</div>\n",
              "      <button class=\"colab-df-convert\" onclick=\"convertToInteractive('df-be044d1d-d147-4e62-b99d-b5534592c57e')\"\n",
              "              title=\"Convert this dataframe to an interactive table.\"\n",
              "              style=\"display:none;\">\n",
              "        \n",
              "  <svg xmlns=\"http://www.w3.org/2000/svg\" height=\"24px\"viewBox=\"0 0 24 24\"\n",
              "       width=\"24px\">\n",
              "    <path d=\"M0 0h24v24H0V0z\" fill=\"none\"/>\n",
              "    <path d=\"M18.56 5.44l.94 2.06.94-2.06 2.06-.94-2.06-.94-.94-2.06-.94 2.06-2.06.94zm-11 1L8.5 8.5l.94-2.06 2.06-.94-2.06-.94L8.5 2.5l-.94 2.06-2.06.94zm10 10l.94 2.06.94-2.06 2.06-.94-2.06-.94-.94-2.06-.94 2.06-2.06.94z\"/><path d=\"M17.41 7.96l-1.37-1.37c-.4-.4-.92-.59-1.43-.59-.52 0-1.04.2-1.43.59L10.3 9.45l-7.72 7.72c-.78.78-.78 2.05 0 2.83L4 21.41c.39.39.9.59 1.41.59.51 0 1.02-.2 1.41-.59l7.78-7.78 2.81-2.81c.8-.78.8-2.07 0-2.86zM5.41 20L4 18.59l7.72-7.72 1.47 1.35L5.41 20z\"/>\n",
              "  </svg>\n",
              "      </button>\n",
              "      \n",
              "  <style>\n",
              "    .colab-df-container {\n",
              "      display:flex;\n",
              "      flex-wrap:wrap;\n",
              "      gap: 12px;\n",
              "    }\n",
              "\n",
              "    .colab-df-convert {\n",
              "      background-color: #E8F0FE;\n",
              "      border: none;\n",
              "      border-radius: 50%;\n",
              "      cursor: pointer;\n",
              "      display: none;\n",
              "      fill: #1967D2;\n",
              "      height: 32px;\n",
              "      padding: 0 0 0 0;\n",
              "      width: 32px;\n",
              "    }\n",
              "\n",
              "    .colab-df-convert:hover {\n",
              "      background-color: #E2EBFA;\n",
              "      box-shadow: 0px 1px 2px rgba(60, 64, 67, 0.3), 0px 1px 3px 1px rgba(60, 64, 67, 0.15);\n",
              "      fill: #174EA6;\n",
              "    }\n",
              "\n",
              "    [theme=dark] .colab-df-convert {\n",
              "      background-color: #3B4455;\n",
              "      fill: #D2E3FC;\n",
              "    }\n",
              "\n",
              "    [theme=dark] .colab-df-convert:hover {\n",
              "      background-color: #434B5C;\n",
              "      box-shadow: 0px 1px 3px 1px rgba(0, 0, 0, 0.15);\n",
              "      filter: drop-shadow(0px 1px 2px rgba(0, 0, 0, 0.3));\n",
              "      fill: #FFFFFF;\n",
              "    }\n",
              "  </style>\n",
              "\n",
              "      <script>\n",
              "        const buttonEl =\n",
              "          document.querySelector('#df-be044d1d-d147-4e62-b99d-b5534592c57e button.colab-df-convert');\n",
              "        buttonEl.style.display =\n",
              "          google.colab.kernel.accessAllowed ? 'block' : 'none';\n",
              "\n",
              "        async function convertToInteractive(key) {\n",
              "          const element = document.querySelector('#df-be044d1d-d147-4e62-b99d-b5534592c57e');\n",
              "          const dataTable =\n",
              "            await google.colab.kernel.invokeFunction('convertToInteractive',\n",
              "                                                     [key], {});\n",
              "          if (!dataTable) return;\n",
              "\n",
              "          const docLinkHtml = 'Like what you see? Visit the ' +\n",
              "            '<a target=\"_blank\" href=https://colab.research.google.com/notebooks/data_table.ipynb>data table notebook</a>'\n",
              "            + ' to learn more about interactive tables.';\n",
              "          element.innerHTML = '';\n",
              "          dataTable['output_type'] = 'display_data';\n",
              "          await google.colab.output.renderOutput(dataTable, element);\n",
              "          const docLink = document.createElement('div');\n",
              "          docLink.innerHTML = docLinkHtml;\n",
              "          element.appendChild(docLink);\n",
              "        }\n",
              "      </script>\n",
              "    </div>\n",
              "  </div>\n",
              "  "
            ]
          },
          "metadata": {},
          "execution_count": 10
        }
      ]
    },
    {
      "cell_type": "code",
      "source": [
        "# checking for missing values\n",
        "df.isna().sum()\n",
        "null = df[df.isna().any(axis=1)]\n",
        "null"
      ],
      "metadata": {
        "trusted": true,
        "colab": {
          "base_uri": "https://localhost:8080/",
          "height": 783
        },
        "id": "rMgsfTF5eoxv",
        "outputId": "eb0c75ef-4f28-470a-fd28-98788b887d48"
      },
      "execution_count": null,
      "outputs": [
        {
          "output_type": "execute_result",
          "data": {
            "text/plain": [
              "male                 0\n",
              "age                  0\n",
              "education          105\n",
              "currentSmoker        0\n",
              "cigsPerDay          29\n",
              "BPMeds              53\n",
              "prevalentStroke      0\n",
              "prevalentHyp         0\n",
              "diabetes             0\n",
              "totChol             50\n",
              "sysBP                0\n",
              "diaBP                0\n",
              "BMI                 19\n",
              "heartRate            1\n",
              "glucose            388\n",
              "TenYearCHD           0\n",
              "dtype: int64"
            ]
          },
          "metadata": {},
          "execution_count": 12
        },
        {
          "output_type": "execute_result",
          "data": {
            "text/plain": [
              "      male  age  education  currentSmoker  cigsPerDay  BPMeds  \\\n",
              "14       0   39        2.0              1         9.0     0.0   \n",
              "21       0   43        1.0              0         0.0     0.0   \n",
              "26       0   60        1.0              0         0.0     0.0   \n",
              "33       1   61        NaN              1         5.0     0.0   \n",
              "36       1   56        NaN              0         0.0     0.0   \n",
              "...    ...  ...        ...            ...         ...     ...   \n",
              "4208     0   51        1.0              1         9.0     0.0   \n",
              "4229     0   51        3.0              1        20.0     0.0   \n",
              "4230     0   56        1.0              1         3.0     0.0   \n",
              "4235     0   48        2.0              1        20.0     NaN   \n",
              "4236     0   44        1.0              1        15.0     0.0   \n",
              "\n",
              "      prevalentStroke  prevalentHyp  diabetes  totChol  sysBP  diaBP    BMI  \\\n",
              "14                  0             0         0    226.0  114.0   64.0  22.35   \n",
              "21                  0             0         0    185.0  123.5   77.5  29.89   \n",
              "26                  0             0         0    260.0  110.0   72.5  26.59   \n",
              "33                  0             0         0    175.0  134.0   82.5  18.59   \n",
              "36                  0             0         0    257.0  153.5  102.0  28.09   \n",
              "...               ...           ...       ...      ...    ...    ...    ...   \n",
              "4208                0             0         0    340.0  152.0   76.0  25.74   \n",
              "4229                0             1         0    251.0  140.0   80.0  25.60   \n",
              "4230                0             1         0    268.0  170.0  102.0  22.89   \n",
              "4235                0             0         0    248.0  131.0   72.0  22.00   \n",
              "4236                0             0         0    210.0  126.5   87.0  19.16   \n",
              "\n",
              "      heartRate  glucose  TenYearCHD  \n",
              "14         85.0      NaN           0  \n",
              "21         70.0      NaN           0  \n",
              "26         65.0      NaN           0  \n",
              "33         72.0     75.0           1  \n",
              "36         72.0     75.0           0  \n",
              "...         ...      ...         ...  \n",
              "4208       70.0      NaN           0  \n",
              "4229       75.0      NaN           0  \n",
              "4230       57.0      NaN           0  \n",
              "4235       84.0     86.0           0  \n",
              "4236       86.0      NaN           0  \n",
              "\n",
              "[582 rows x 16 columns]"
            ],
            "text/html": [
              "\n",
              "  <div id=\"df-18f97a7a-94aa-43da-b39a-16803796c449\">\n",
              "    <div class=\"colab-df-container\">\n",
              "      <div>\n",
              "<style scoped>\n",
              "    .dataframe tbody tr th:only-of-type {\n",
              "        vertical-align: middle;\n",
              "    }\n",
              "\n",
              "    .dataframe tbody tr th {\n",
              "        vertical-align: top;\n",
              "    }\n",
              "\n",
              "    .dataframe thead th {\n",
              "        text-align: right;\n",
              "    }\n",
              "</style>\n",
              "<table border=\"1\" class=\"dataframe\">\n",
              "  <thead>\n",
              "    <tr style=\"text-align: right;\">\n",
              "      <th></th>\n",
              "      <th>male</th>\n",
              "      <th>age</th>\n",
              "      <th>education</th>\n",
              "      <th>currentSmoker</th>\n",
              "      <th>cigsPerDay</th>\n",
              "      <th>BPMeds</th>\n",
              "      <th>prevalentStroke</th>\n",
              "      <th>prevalentHyp</th>\n",
              "      <th>diabetes</th>\n",
              "      <th>totChol</th>\n",
              "      <th>sysBP</th>\n",
              "      <th>diaBP</th>\n",
              "      <th>BMI</th>\n",
              "      <th>heartRate</th>\n",
              "      <th>glucose</th>\n",
              "      <th>TenYearCHD</th>\n",
              "    </tr>\n",
              "  </thead>\n",
              "  <tbody>\n",
              "    <tr>\n",
              "      <th>14</th>\n",
              "      <td>0</td>\n",
              "      <td>39</td>\n",
              "      <td>2.0</td>\n",
              "      <td>1</td>\n",
              "      <td>9.0</td>\n",
              "      <td>0.0</td>\n",
              "      <td>0</td>\n",
              "      <td>0</td>\n",
              "      <td>0</td>\n",
              "      <td>226.0</td>\n",
              "      <td>114.0</td>\n",
              "      <td>64.0</td>\n",
              "      <td>22.35</td>\n",
              "      <td>85.0</td>\n",
              "      <td>NaN</td>\n",
              "      <td>0</td>\n",
              "    </tr>\n",
              "    <tr>\n",
              "      <th>21</th>\n",
              "      <td>0</td>\n",
              "      <td>43</td>\n",
              "      <td>1.0</td>\n",
              "      <td>0</td>\n",
              "      <td>0.0</td>\n",
              "      <td>0.0</td>\n",
              "      <td>0</td>\n",
              "      <td>0</td>\n",
              "      <td>0</td>\n",
              "      <td>185.0</td>\n",
              "      <td>123.5</td>\n",
              "      <td>77.5</td>\n",
              "      <td>29.89</td>\n",
              "      <td>70.0</td>\n",
              "      <td>NaN</td>\n",
              "      <td>0</td>\n",
              "    </tr>\n",
              "    <tr>\n",
              "      <th>26</th>\n",
              "      <td>0</td>\n",
              "      <td>60</td>\n",
              "      <td>1.0</td>\n",
              "      <td>0</td>\n",
              "      <td>0.0</td>\n",
              "      <td>0.0</td>\n",
              "      <td>0</td>\n",
              "      <td>0</td>\n",
              "      <td>0</td>\n",
              "      <td>260.0</td>\n",
              "      <td>110.0</td>\n",
              "      <td>72.5</td>\n",
              "      <td>26.59</td>\n",
              "      <td>65.0</td>\n",
              "      <td>NaN</td>\n",
              "      <td>0</td>\n",
              "    </tr>\n",
              "    <tr>\n",
              "      <th>33</th>\n",
              "      <td>1</td>\n",
              "      <td>61</td>\n",
              "      <td>NaN</td>\n",
              "      <td>1</td>\n",
              "      <td>5.0</td>\n",
              "      <td>0.0</td>\n",
              "      <td>0</td>\n",
              "      <td>0</td>\n",
              "      <td>0</td>\n",
              "      <td>175.0</td>\n",
              "      <td>134.0</td>\n",
              "      <td>82.5</td>\n",
              "      <td>18.59</td>\n",
              "      <td>72.0</td>\n",
              "      <td>75.0</td>\n",
              "      <td>1</td>\n",
              "    </tr>\n",
              "    <tr>\n",
              "      <th>36</th>\n",
              "      <td>1</td>\n",
              "      <td>56</td>\n",
              "      <td>NaN</td>\n",
              "      <td>0</td>\n",
              "      <td>0.0</td>\n",
              "      <td>0.0</td>\n",
              "      <td>0</td>\n",
              "      <td>0</td>\n",
              "      <td>0</td>\n",
              "      <td>257.0</td>\n",
              "      <td>153.5</td>\n",
              "      <td>102.0</td>\n",
              "      <td>28.09</td>\n",
              "      <td>72.0</td>\n",
              "      <td>75.0</td>\n",
              "      <td>0</td>\n",
              "    </tr>\n",
              "    <tr>\n",
              "      <th>...</th>\n",
              "      <td>...</td>\n",
              "      <td>...</td>\n",
              "      <td>...</td>\n",
              "      <td>...</td>\n",
              "      <td>...</td>\n",
              "      <td>...</td>\n",
              "      <td>...</td>\n",
              "      <td>...</td>\n",
              "      <td>...</td>\n",
              "      <td>...</td>\n",
              "      <td>...</td>\n",
              "      <td>...</td>\n",
              "      <td>...</td>\n",
              "      <td>...</td>\n",
              "      <td>...</td>\n",
              "      <td>...</td>\n",
              "    </tr>\n",
              "    <tr>\n",
              "      <th>4208</th>\n",
              "      <td>0</td>\n",
              "      <td>51</td>\n",
              "      <td>1.0</td>\n",
              "      <td>1</td>\n",
              "      <td>9.0</td>\n",
              "      <td>0.0</td>\n",
              "      <td>0</td>\n",
              "      <td>0</td>\n",
              "      <td>0</td>\n",
              "      <td>340.0</td>\n",
              "      <td>152.0</td>\n",
              "      <td>76.0</td>\n",
              "      <td>25.74</td>\n",
              "      <td>70.0</td>\n",
              "      <td>NaN</td>\n",
              "      <td>0</td>\n",
              "    </tr>\n",
              "    <tr>\n",
              "      <th>4229</th>\n",
              "      <td>0</td>\n",
              "      <td>51</td>\n",
              "      <td>3.0</td>\n",
              "      <td>1</td>\n",
              "      <td>20.0</td>\n",
              "      <td>0.0</td>\n",
              "      <td>0</td>\n",
              "      <td>1</td>\n",
              "      <td>0</td>\n",
              "      <td>251.0</td>\n",
              "      <td>140.0</td>\n",
              "      <td>80.0</td>\n",
              "      <td>25.60</td>\n",
              "      <td>75.0</td>\n",
              "      <td>NaN</td>\n",
              "      <td>0</td>\n",
              "    </tr>\n",
              "    <tr>\n",
              "      <th>4230</th>\n",
              "      <td>0</td>\n",
              "      <td>56</td>\n",
              "      <td>1.0</td>\n",
              "      <td>1</td>\n",
              "      <td>3.0</td>\n",
              "      <td>0.0</td>\n",
              "      <td>0</td>\n",
              "      <td>1</td>\n",
              "      <td>0</td>\n",
              "      <td>268.0</td>\n",
              "      <td>170.0</td>\n",
              "      <td>102.0</td>\n",
              "      <td>22.89</td>\n",
              "      <td>57.0</td>\n",
              "      <td>NaN</td>\n",
              "      <td>0</td>\n",
              "    </tr>\n",
              "    <tr>\n",
              "      <th>4235</th>\n",
              "      <td>0</td>\n",
              "      <td>48</td>\n",
              "      <td>2.0</td>\n",
              "      <td>1</td>\n",
              "      <td>20.0</td>\n",
              "      <td>NaN</td>\n",
              "      <td>0</td>\n",
              "      <td>0</td>\n",
              "      <td>0</td>\n",
              "      <td>248.0</td>\n",
              "      <td>131.0</td>\n",
              "      <td>72.0</td>\n",
              "      <td>22.00</td>\n",
              "      <td>84.0</td>\n",
              "      <td>86.0</td>\n",
              "      <td>0</td>\n",
              "    </tr>\n",
              "    <tr>\n",
              "      <th>4236</th>\n",
              "      <td>0</td>\n",
              "      <td>44</td>\n",
              "      <td>1.0</td>\n",
              "      <td>1</td>\n",
              "      <td>15.0</td>\n",
              "      <td>0.0</td>\n",
              "      <td>0</td>\n",
              "      <td>0</td>\n",
              "      <td>0</td>\n",
              "      <td>210.0</td>\n",
              "      <td>126.5</td>\n",
              "      <td>87.0</td>\n",
              "      <td>19.16</td>\n",
              "      <td>86.0</td>\n",
              "      <td>NaN</td>\n",
              "      <td>0</td>\n",
              "    </tr>\n",
              "  </tbody>\n",
              "</table>\n",
              "<p>582 rows × 16 columns</p>\n",
              "</div>\n",
              "      <button class=\"colab-df-convert\" onclick=\"convertToInteractive('df-18f97a7a-94aa-43da-b39a-16803796c449')\"\n",
              "              title=\"Convert this dataframe to an interactive table.\"\n",
              "              style=\"display:none;\">\n",
              "        \n",
              "  <svg xmlns=\"http://www.w3.org/2000/svg\" height=\"24px\"viewBox=\"0 0 24 24\"\n",
              "       width=\"24px\">\n",
              "    <path d=\"M0 0h24v24H0V0z\" fill=\"none\"/>\n",
              "    <path d=\"M18.56 5.44l.94 2.06.94-2.06 2.06-.94-2.06-.94-.94-2.06-.94 2.06-2.06.94zm-11 1L8.5 8.5l.94-2.06 2.06-.94-2.06-.94L8.5 2.5l-.94 2.06-2.06.94zm10 10l.94 2.06.94-2.06 2.06-.94-2.06-.94-.94-2.06-.94 2.06-2.06.94z\"/><path d=\"M17.41 7.96l-1.37-1.37c-.4-.4-.92-.59-1.43-.59-.52 0-1.04.2-1.43.59L10.3 9.45l-7.72 7.72c-.78.78-.78 2.05 0 2.83L4 21.41c.39.39.9.59 1.41.59.51 0 1.02-.2 1.41-.59l7.78-7.78 2.81-2.81c.8-.78.8-2.07 0-2.86zM5.41 20L4 18.59l7.72-7.72 1.47 1.35L5.41 20z\"/>\n",
              "  </svg>\n",
              "      </button>\n",
              "      \n",
              "  <style>\n",
              "    .colab-df-container {\n",
              "      display:flex;\n",
              "      flex-wrap:wrap;\n",
              "      gap: 12px;\n",
              "    }\n",
              "\n",
              "    .colab-df-convert {\n",
              "      background-color: #E8F0FE;\n",
              "      border: none;\n",
              "      border-radius: 50%;\n",
              "      cursor: pointer;\n",
              "      display: none;\n",
              "      fill: #1967D2;\n",
              "      height: 32px;\n",
              "      padding: 0 0 0 0;\n",
              "      width: 32px;\n",
              "    }\n",
              "\n",
              "    .colab-df-convert:hover {\n",
              "      background-color: #E2EBFA;\n",
              "      box-shadow: 0px 1px 2px rgba(60, 64, 67, 0.3), 0px 1px 3px 1px rgba(60, 64, 67, 0.15);\n",
              "      fill: #174EA6;\n",
              "    }\n",
              "\n",
              "    [theme=dark] .colab-df-convert {\n",
              "      background-color: #3B4455;\n",
              "      fill: #D2E3FC;\n",
              "    }\n",
              "\n",
              "    [theme=dark] .colab-df-convert:hover {\n",
              "      background-color: #434B5C;\n",
              "      box-shadow: 0px 1px 3px 1px rgba(0, 0, 0, 0.15);\n",
              "      filter: drop-shadow(0px 1px 2px rgba(0, 0, 0, 0.3));\n",
              "      fill: #FFFFFF;\n",
              "    }\n",
              "  </style>\n",
              "\n",
              "      <script>\n",
              "        const buttonEl =\n",
              "          document.querySelector('#df-18f97a7a-94aa-43da-b39a-16803796c449 button.colab-df-convert');\n",
              "        buttonEl.style.display =\n",
              "          google.colab.kernel.accessAllowed ? 'block' : 'none';\n",
              "\n",
              "        async function convertToInteractive(key) {\n",
              "          const element = document.querySelector('#df-18f97a7a-94aa-43da-b39a-16803796c449');\n",
              "          const dataTable =\n",
              "            await google.colab.kernel.invokeFunction('convertToInteractive',\n",
              "                                                     [key], {});\n",
              "          if (!dataTable) return;\n",
              "\n",
              "          const docLinkHtml = 'Like what you see? Visit the ' +\n",
              "            '<a target=\"_blank\" href=https://colab.research.google.com/notebooks/data_table.ipynb>data table notebook</a>'\n",
              "            + ' to learn more about interactive tables.';\n",
              "          element.innerHTML = '';\n",
              "          dataTable['output_type'] = 'display_data';\n",
              "          await google.colab.output.renderOutput(dataTable, element);\n",
              "          const docLink = document.createElement('div');\n",
              "          docLink.innerHTML = docLinkHtml;\n",
              "          element.appendChild(docLink);\n",
              "        }\n",
              "      </script>\n",
              "    </div>\n",
              "  </div>\n",
              "  "
            ]
          },
          "metadata": {},
          "execution_count": 12
        }
      ]
    },
    {
      "cell_type": "code",
      "source": [
        "# checking distributions using histograms\n",
        "fig = plt.figure(figsize = (15,20))\n",
        "ax = fig.gca()\n",
        "df.hist(ax = ax)"
      ],
      "metadata": {
        "trusted": true,
        "colab": {
          "base_uri": "https://localhost:8080/",
          "height": 1000
        },
        "id": "WRnhxsxBeoxw",
        "outputId": "f656cc03-a7bd-464e-ce0a-c2f7b607e843"
      },
      "execution_count": null,
      "outputs": [
        {
          "output_type": "stream",
          "name": "stderr",
          "text": [
            "/usr/local/lib/python3.7/dist-packages/ipykernel_launcher.py:4: UserWarning: To output multiple subplots, the figure containing the passed axes is being cleared\n",
            "  after removing the cwd from sys.path.\n"
          ]
        },
        {
          "output_type": "execute_result",
          "data": {
            "text/plain": [
              "array([[<matplotlib.axes._subplots.AxesSubplot object at 0x7f6068136510>,\n",
              "        <matplotlib.axes._subplots.AxesSubplot object at 0x7f60680623d0>,\n",
              "        <matplotlib.axes._subplots.AxesSubplot object at 0x7f60680179d0>,\n",
              "        <matplotlib.axes._subplots.AxesSubplot object at 0x7f6067fcffd0>],\n",
              "       [<matplotlib.axes._subplots.AxesSubplot object at 0x7f6067f92610>,\n",
              "        <matplotlib.axes._subplots.AxesSubplot object at 0x7f6067f47c10>,\n",
              "        <matplotlib.axes._subplots.AxesSubplot object at 0x7f6067f0a250>,\n",
              "        <matplotlib.axes._subplots.AxesSubplot object at 0x7f6067ec1850>],\n",
              "       [<matplotlib.axes._subplots.AxesSubplot object at 0x7f6067ecbc90>,\n",
              "        <matplotlib.axes._subplots.AxesSubplot object at 0x7f6067e8f3d0>,\n",
              "        <matplotlib.axes._subplots.AxesSubplot object at 0x7f6067df1a90>,\n",
              "        <matplotlib.axes._subplots.AxesSubplot object at 0x7f6067db50d0>],\n",
              "       [<matplotlib.axes._subplots.AxesSubplot object at 0x7f6067d6a6d0>,\n",
              "        <matplotlib.axes._subplots.AxesSubplot object at 0x7f6067da0cd0>,\n",
              "        <matplotlib.axes._subplots.AxesSubplot object at 0x7f6067d64310>,\n",
              "        <matplotlib.axes._subplots.AxesSubplot object at 0x7f6067d19910>]],\n",
              "      dtype=object)"
            ]
          },
          "metadata": {},
          "execution_count": 13
        },
        {
          "output_type": "display_data",
          "data": {
            "text/plain": [
              "<Figure size 1080x1440 with 16 Axes>"
            ],
            "image/png": "[encoded data removed]"
          },
          "metadata": {
            "image/png": {
              "width": 887,
              "height": 1133
            },
            "needs_background": "light"
          }
        }
      ]
    },
    {
      "cell_type": "code",
      "source": [
        "# checking which features are correlated with each other and are correlated with the outcome variable\n",
        "df_corr = df.corr()\n",
        "sns.heatmap(df_corr)"
      ],
      "metadata": {
        "trusted": true,
        "colab": {
          "base_uri": "https://localhost:8080/",
          "height": 356
        },
        "id": "zCsyQHaseoxy",
        "outputId": "7890dd32-8be8-43a2-f463-1df1f7ae4165"
      },
      "execution_count": null,
      "outputs": [
        {
          "output_type": "execute_result",
          "data": {
            "text/plain": [
              "<matplotlib.axes._subplots.AxesSubplot at 0x7f6067357e50>"
            ]
          },
          "metadata": {},
          "execution_count": 14
        },
        {
          "output_type": "display_data",
          "data": {
            "text/plain": [
              "<Figure size 432x288 with 2 Axes>"
            ],
            "image/png": "[encoded data removed]"
          },
          "metadata": {
            "image/png": {
              "width": 428,
              "height": 322
            },
            "needs_background": "light"
          }
        }
      ]
    },
    {
      "cell_type": "markdown",
      "source": [
        "**Conclusions from Heatmap:**\n",
        "\n",
        "Estamos eliminando la columna *educación* porque un médico tendría que decidir en qué nivel de educación poner a un paciente y esto podría dar lugar a resultados muy subjetivos y además no es muy adecuardo de poner en práctica.\n",
        "\n",
        "The two features are not correlated to the outcome variable. In that case we would have kept them."
      ],
      "metadata": {
        "id": "PLHyfwIueoxz"
      }
    },
    {
      "cell_type": "code",
      "source": [
        "# Dropping columns education and glucose\n",
        "df = df.drop(['education'], axis=1)"
      ],
      "metadata": {
        "trusted": true,
        "id": "v69dcbAyeoxz"
      },
      "execution_count": null,
      "outputs": []
    },
    {
      "cell_type": "code",
      "source": [
        "# Checking for more missing data \n",
        "df.isna().sum()"
      ],
      "metadata": {
        "trusted": true,
        "colab": {
          "base_uri": "https://localhost:8080/"
        },
        "id": "dVwoKrC8eox0",
        "outputId": "4f02fbff-33a7-44cb-bd81-1a5c3257ba58"
      },
      "execution_count": null,
      "outputs": [
        {
          "output_type": "execute_result",
          "data": {
            "text/plain": [
              "male                 0\n",
              "age                  0\n",
              "currentSmoker        0\n",
              "cigsPerDay          29\n",
              "BPMeds              53\n",
              "prevalentStroke      0\n",
              "prevalentHyp         0\n",
              "diabetes             0\n",
              "totChol             50\n",
              "sysBP                0\n",
              "diaBP                0\n",
              "BMI                 19\n",
              "heartRate            1\n",
              "glucose            388\n",
              "TenYearCHD           0\n",
              "dtype: int64"
            ]
          },
          "metadata": {},
          "execution_count": 16
        }
      ]
    },
    {
      "cell_type": "code",
      "source": [
        "# Dropping all rows with missing data (NOOOOOOOOOOOOOOOO)\n",
        "df = df.dropna()\n",
        "df.isna().sum()\n",
        "df.columns"
      ],
      "metadata": {
        "trusted": true,
        "id": "9reJLdYyeox0"
      },
      "execution_count": null,
      "outputs": []
    },
    {
      "cell_type": "markdown",
      "source": [
        "## Feature Selection *<a name=\"paragraph2\"></a>*"
      ],
      "metadata": {
        "id": "tGwiGWz7eox1"
      }
    },
    {
      "cell_type": "code",
      "source": [
        "# Identify the features with the most importance for the outcome variable Heart Disease\n",
        "\n",
        "from sklearn.feature_selection import SelectKBest\n",
        "from sklearn.feature_selection import chi2\n",
        "\n",
        "# separate independent & dependent variables\n",
        "X = df.iloc[:,0:14]  #independent columns\n",
        "y = df.iloc[:,-1]    #target column i.e price range\n",
        "\n",
        "# apply SelectKBest class to extract top 10 best features\n",
        "bestfeatures = SelectKBest(score_func=chi2, k=10)\n",
        "fit = bestfeatures.fit(X,y)\n",
        "dfscores = pd.DataFrame(fit.scores_)\n",
        "dfcolumns = pd.DataFrame(X.columns)\n",
        "\n",
        "#concat two dataframes for better visualization \n",
        "featureScores = pd.concat([dfcolumns,dfscores],axis=1)\n",
        "featureScores.columns = ['Specs','Score']  #naming the dataframe columns\n",
        "print(featureScores.nlargest(11,'Score'))  #print 10 best features"
      ],
      "metadata": {
        "trusted": true,
        "id": "UwGPyuJneox2"
      },
      "execution_count": null,
      "outputs": []
    },
    {
      "cell_type": "code",
      "source": [
        "featureScores = featureScores.sort_values(by='Score', ascending=False)\n",
        "featureScores"
      ],
      "metadata": {
        "trusted": true,
        "id": "rW0Es7AUeox2"
      },
      "execution_count": null,
      "outputs": []
    },
    {
      "cell_type": "code",
      "source": [
        "# visualizing feature selection\n",
        "plt.figure(figsize=(20,5))\n",
        "sns.barplot(x='Specs', y='Score', data=featureScores, palette = \"GnBu_d\")\n",
        "plt.box(False)\n",
        "plt.title('Feature importance', fontsize=16)\n",
        "plt.xlabel('\\n Features', fontsize=14)\n",
        "plt.ylabel('Importance \\n', fontsize=14)\n",
        "plt.xticks(fontsize=12)\n",
        "plt.yticks(fontsize=12)\n",
        "plt.show()"
      ],
      "metadata": {
        "trusted": true,
        "id": "h5Pi8G1Deox3"
      },
      "execution_count": null,
      "outputs": []
    },
    {
      "cell_type": "code",
      "source": [
        "# selecting the 10 most impactful features for the target variable\n",
        "features_list = featureScores[\"Specs\"].tolist()[:10]\n",
        "features_list"
      ],
      "metadata": {
        "trusted": true,
        "id": "EXLCciEmeox3"
      },
      "execution_count": null,
      "outputs": []
    },
    {
      "cell_type": "markdown",
      "source": [
        "We will only keep those features that have the strongest relationship with the output variable. These features are:\n",
        "- Systolic Blood Pressure\n",
        "- Glucose\n",
        "- Age\n",
        "- Cholesterin\n",
        "- Cigarettes per Day\n",
        "- Diastolic Blood Pressure\n",
        "- Hypertensive\n",
        "- Diabetes\n",
        "- Blood Pressure Medication\n",
        "- Gender"
      ],
      "metadata": {
        "id": "oHWYSGhWeox3"
      }
    },
    {
      "cell_type": "code",
      "source": [
        "# Create new dataframe with selected features\n",
        "\n",
        "df = df[['sysBP', 'glucose','age','totChol','cigsPerDay','diaBP','prevalentHyp','diabetes','BPMeds','male','TenYearCHD']]\n",
        "df.head()"
      ],
      "metadata": {
        "trusted": true,
        "id": "0WHg3cHJeox4"
      },
      "execution_count": null,
      "outputs": []
    },
    {
      "cell_type": "code",
      "source": [
        "# Checking correlation again\n",
        "df_corr = df.corr()\n",
        "sns.heatmap(df_corr)"
      ],
      "metadata": {
        "trusted": true,
        "id": "SMBVnqb7eox5"
      },
      "execution_count": null,
      "outputs": []
    },
    {
      "cell_type": "code",
      "source": [
        "# Checking for outliers\n",
        "df.describe()\n",
        "sns.pairplot(df)"
      ],
      "metadata": {
        "trusted": true,
        "id": "JJuxlpCNeox6"
      },
      "execution_count": null,
      "outputs": []
    },
    {
      "cell_type": "code",
      "source": [
        "# Zooming into cholesterin outliers\n",
        "\n",
        "sns.boxplot(df.totChol)\n",
        "outliers = df[(df['totChol'] > 500)] \n",
        "outliers"
      ],
      "metadata": {
        "trusted": true,
        "id": "F5briyVXeox6"
      },
      "execution_count": null,
      "outputs": []
    },
    {
      "cell_type": "code",
      "source": [
        "# Dropping 2 outliers in cholesterin\n",
        "df = df.drop(df[df.totChol > 599].index)\n",
        "sns.boxplot(df.totChol)"
      ],
      "metadata": {
        "trusted": true,
        "id": "jiM2_24eeox7"
      },
      "execution_count": null,
      "outputs": []
    },
    {
      "cell_type": "code",
      "source": [
        "df_clean = df"
      ],
      "metadata": {
        "trusted": true,
        "id": "oo44rJlaeox7"
      },
      "execution_count": null,
      "outputs": []
    },
    {
      "cell_type": "markdown",
      "source": [
        "## Feature Scaling <a name=\"paragraph2\"></a>\n",
        "Since we want to try out different models, and also these that use distance as a measure, we will scale our features."
      ],
      "metadata": {
        "id": "nDAUuCuCeox7"
      }
    },
    {
      "cell_type": "code",
      "source": [
        "scaler = MinMaxScaler(feature_range=(0,1)) \n",
        "\n",
        "#assign scaler to column:\n",
        "df_scaled = pd.DataFrame(scaler.fit_transform(df_clean), columns=df_clean.columns)\n"
      ],
      "metadata": {
        "trusted": true,
        "id": "obANg6Okeox7"
      },
      "execution_count": null,
      "outputs": []
    },
    {
      "cell_type": "code",
      "source": [
        "df_scaled.describe()\n",
        "df.describe()"
      ],
      "metadata": {
        "trusted": true,
        "id": "ACe_qMaGeox8"
      },
      "execution_count": null,
      "outputs": []
    },
    {
      "cell_type": "markdown",
      "source": [
        "## Test - Train Split <a name=\"paragraph3\"></a>"
      ],
      "metadata": {
        "id": "VTMz8yyneox8"
      }
    },
    {
      "cell_type": "code",
      "source": [
        "# clarify what is y and what is x label\n",
        "y = df_scaled['TenYearCHD']\n",
        "X = df_scaled.drop(['TenYearCHD'], axis = 1)\n",
        "\n",
        "# divide train test: 80 % - 20 %\n",
        "X_train, X_test, y_train, y_test = train_test_split(X, y, test_size = 0.2, random_state=29)"
      ],
      "metadata": {
        "trusted": true,
        "id": "ij2ubmJ6eox8"
      },
      "execution_count": null,
      "outputs": []
    },
    {
      "cell_type": "code",
      "source": [
        "len(X_train)\n",
        "len(X_test)"
      ],
      "metadata": {
        "trusted": true,
        "id": "M-yx2DO9eox8"
      },
      "execution_count": null,
      "outputs": []
    },
    {
      "cell_type": "markdown",
      "source": [
        "## Resampling imbalanced Dataset <a name=\"paragraph4\"></a>"
      ],
      "metadata": {
        "id": "rlf-_Y53eox9"
      }
    },
    {
      "cell_type": "code",
      "source": [
        "# Checking balance of outcome variable\n",
        "target_count = df_scaled.TenYearCHD.value_counts()\n",
        "print('Class 0:', target_count[0])\n",
        "print('Class 1:', target_count[1])\n",
        "print('Proportion:', round(target_count[0] / target_count[1], 2), ': 1')\n",
        "\n",
        "sns.countplot(df_scaled.TenYearCHD, palette=\"OrRd\")\n",
        "plt.box(False)\n",
        "plt.xlabel('Heart Disease No/Yes',fontsize=11)\n",
        "plt.ylabel('Patient Count',fontsize=11)\n",
        "plt.title('Count Outcome Heart Disease\\n')\n",
        "plt.savefig('Balance Heart Disease.png')\n",
        "plt.show()"
      ],
      "metadata": {
        "trusted": true,
        "id": "8WvNE-POeox-"
      },
      "execution_count": null,
      "outputs": []
    },
    {
      "cell_type": "markdown",
      "source": [
        "We can see that the proportion is 5.57:1 which is not well balanced.\n",
        "One of the major issues when dealing with unbalanced datasets relates to the metrics used to evaluate a model. Using simpler metrics like accuracy_score can be misleading. In a dataset with highly unbalanced classes, if the classifier always \"predicts\" the most common class without performing any analysis of the features, it will still have a high accuracy rate, obviously illusory."
      ],
      "metadata": {
        "id": "hFC1Hmrceox-"
      }
    },
    {
      "cell_type": "markdown",
      "source": [
        "### UNDERSAMPLING METHOD"
      ],
      "metadata": {
        "id": "9myKSbxGeox-"
      }
    },
    {
      "cell_type": "markdown",
      "source": [
        "Undersampling aims to decrease the number of instances from the overrepresented class in the data set. In our case, these techniques will decrease the number of fraudulent transactions in our data to approximately 50:50. If we do not balance the number of instances, most classification algorithms will heavily focus on the majority class. As a result, it might seem like your algorithm is achieving superb results when, in reality, it is simply always predicting the majority class.\n",
        "\n",
        "The easiest way to do so is to randomly select observations from the majority class and remove them from the data set until we achieve a balance between the majority and minority class.\n"
      ],
      "metadata": {
        "id": "w-vZXfG5eox-"
      }
    },
    {
      "cell_type": "code",
      "source": [
        "# Shuffle df\n",
        "shuffled_df = df_scaled.sample(frac=1,random_state=4)\n",
        "\n",
        "# Put all the fraud class in a separate dataset.\n",
        "CHD_df = shuffled_df.loc[shuffled_df['TenYearCHD'] == 1]\n",
        "\n",
        "#Randomly select 492 observations from the non-fraud (majority class)\n",
        "non_CHD_df = shuffled_df.loc[shuffled_df['TenYearCHD'] == 0].sample(n=611,random_state=42)\n",
        "\n",
        "# Concatenate both dataframes again\n",
        "normalized_df = pd.concat([CHD_df, non_CHD_df])\n",
        "\n",
        "# check new class counts\n",
        "normalized_df.TenYearCHD.value_counts()\n",
        "\n",
        "# plot new count\n",
        "sns.countplot(normalized_df.TenYearCHD, palette=\"OrRd\")\n",
        "plt.box(False)\n",
        "plt.xlabel('Heart Disease No/Yes',fontsize=11)\n",
        "plt.ylabel('Patient Count',fontsize=11)\n",
        "plt.title('Count Outcome Heart Disease after Resampling\\n')\n",
        "#plt.savefig('Balance Heart Disease.png')\n",
        "plt.show()"
      ],
      "metadata": {
        "trusted": true,
        "id": "3TVf0ROYeox_"
      },
      "execution_count": null,
      "outputs": []
    },
    {
      "cell_type": "markdown",
      "source": [
        "> ## **Model Pipeline** <a name=\"paragraph5\"></a>"
      ],
      "metadata": {
        "id": "DDGsufhqeox_"
      }
    },
    {
      "cell_type": "code",
      "source": [
        "y_train = normalized_df['TenYearCHD']\n",
        "X_train = normalized_df.drop('TenYearCHD', axis=1)\n",
        "\n",
        "from sklearn.pipeline import Pipeline\n",
        "\n",
        "classifiers = [LogisticRegression(),SVC(),DecisionTreeClassifier(),KNeighborsClassifier(2)]\n",
        "\n",
        "for classifier in classifiers:\n",
        "    pipe = Pipeline(steps=[('classifier', classifier)])\n",
        "    pipe.fit(X_train, y_train)   \n",
        "    print(\"The accuracy score of {0} is: {1:.2f}%\".format(classifier,(pipe.score(X_test, y_test)*100)))\n"
      ],
      "metadata": {
        "trusted": true,
        "id": "YcpKFW1Feox_"
      },
      "execution_count": null,
      "outputs": []
    },
    {
      "cell_type": "markdown",
      "source": [
        "## Modelling & Evaluation (without Pipeline) <a name=\"paragraph6\"></a>"
      ],
      "metadata": {
        "id": "0qOezA1meoyA"
      }
    },
    {
      "cell_type": "markdown",
      "source": [
        "### 1. Logistic Regression"
      ],
      "metadata": {
        "id": "Oy4YoAtreoyA"
      }
    },
    {
      "cell_type": "code",
      "source": [
        "# logistic regression again with the balanced dataset\n",
        "\n",
        "normalized_df_reg = LogisticRegression().fit(X_train, y_train)\n",
        "\n",
        "normalized_df_reg_pred = normalized_df_reg.predict(X_test)\n",
        "\n",
        "# check accuracy: Accuracy: Overall, how often is the classifier correct? Accuracy = (True Pos + True Negative)/total\n",
        "acc = accuracy_score(y_test, normalized_df_reg_pred)\n",
        "print(f\"The accuracy score for LogReg is: {round(acc,3)*100}%\")\n",
        "\n",
        "# f1 score: The F1 score can be interpreted as a weighted average of the precision and recall, where an F1 score reaches its best value at 1 and worst score at 0.\n",
        "f1 = f1_score(y_test, normalized_df_reg_pred)\n",
        "print(f\"The f1 score for LogReg is: {round(f1,3)*100}%\")\n",
        "\n",
        "# Precision score: When it predicts yes, how often is it correct? Precision=True Positive/predicted yes\n",
        "precision = precision_score(y_test, normalized_df_reg_pred)\n",
        "print(f\"The precision score for LogReg is: {round(precision,3)*100}%\")\n",
        "\n",
        "# recall score: True Positive Rate(Sensitivity or Recall): When it’s actually yes, how often does it predict yes? True Positive Rate = True Positive/actual yes\n",
        "recall = recall_score(y_test, normalized_df_reg_pred)\n",
        "print(f\"The recall score for LogReg is: {round(recall,3)*100}%\")"
      ],
      "metadata": {
        "trusted": true,
        "id": "FgF538kteoyA"
      },
      "execution_count": null,
      "outputs": []
    },
    {
      "cell_type": "code",
      "source": [
        "# plotting confusion matrix LogReg\n",
        "\n",
        "cnf_matrix_log = confusion_matrix(y_test, normalized_df_reg_pred)\n",
        "\n",
        "sns.heatmap(pd.DataFrame(cnf_matrix_log), annot=True,cmap=\"Reds\" , fmt='g')\n",
        "ax.xaxis.set_label_position(\"top\")\n",
        "plt.tight_layout()\n",
        "plt.title('Confusion matrix Logistic Regression\\n', y=1.1)"
      ],
      "metadata": {
        "trusted": true,
        "id": "g1ojqTj3eoyA"
      },
      "execution_count": null,
      "outputs": []
    },
    {
      "cell_type": "markdown",
      "source": [
        "### 2. SVM"
      ],
      "metadata": {
        "id": "J8XrIZZYeoyA"
      }
    },
    {
      "cell_type": "code",
      "source": [
        "# Support Vector Machine\n",
        "\n",
        "#initialize model\n",
        "svm = SVC()\n",
        "\n",
        "#fit model\n",
        "svm.fit(X_train, y_train)\n",
        "\n",
        "normalized_df_svm_pred = svm.predict(X_test)\n",
        "\n",
        "# check accuracy: Accuracy: Overall, how often is the classifier correct? Accuracy = (True Pos + True Negative)/total\n",
        "acc = accuracy_score(y_test, normalized_df_svm_pred)\n",
        "print(f\"The accuracy score for SVM is: {round(acc,3)*100}%\")\n",
        "\n",
        "# f1 score: The F1 score can be interpreted as a weighted average of the precision and recall, where an F1 score reaches its best value at 1 and worst score at 0.\n",
        "f1 = f1_score(y_test, normalized_df_svm_pred)\n",
        "print(f\"The f1 score for SVM is: {round(f1,3)*100}%\")\n",
        "\n",
        "# Precision score: When it predicts yes, how often is it correct? Precision=True Positive/predicted yes\n",
        "precision = precision_score(y_test, normalized_df_svm_pred)\n",
        "print(f\"The precision score for SVM is: {round(precision,3)*100}%\")\n",
        "\n",
        "# recall score: True Positive Rate(Sensitivity or Recall): When it’s actually yes, how often does it predict yes? True Positive Rate = True Positive/actual yes\n",
        "recall = recall_score(y_test, normalized_df_svm_pred)\n",
        "print(f\"The recall score for SVM is: {round(recall,3)*100}%\")\n"
      ],
      "metadata": {
        "trusted": true,
        "id": "EDEsA-43eoyB"
      },
      "execution_count": null,
      "outputs": []
    },
    {
      "cell_type": "code",
      "source": [
        "# plotting confusion matrix SVM\n",
        "\n",
        "cnf_matrix_svm = confusion_matrix(y_test, normalized_df_svm_pred)\n",
        "\n",
        "sns.heatmap(pd.DataFrame(cnf_matrix_svm), annot=True,cmap=\"Reds\" , fmt='g')\n",
        "ax.xaxis.set_label_position(\"top\")\n",
        "plt.tight_layout()\n",
        "plt.title('Confusion matrix SVM\\n', y=1.1)"
      ],
      "metadata": {
        "trusted": true,
        "id": "mZEU9L1WeoyB"
      },
      "execution_count": null,
      "outputs": []
    },
    {
      "cell_type": "markdown",
      "source": [
        "### 3. Decision Tree"
      ],
      "metadata": {
        "id": "tKnko-t7eoyC"
      }
    },
    {
      "cell_type": "code",
      "source": [
        "# Decision Tree\n",
        "\n",
        "#initialize model\n",
        "dtc_up = DecisionTreeClassifier()\n",
        "\n",
        "# fit model\n",
        "dtc_up.fit(X_train, y_train)\n",
        "\n",
        "normalized_df_dtc_pred = dtc_up.predict(X_test)\n",
        "\n",
        "# check accuracy: Accuracy: Overall, how often is the classifier correct? Accuracy = (True Pos + True Negative)/total\n",
        "acc = accuracy_score(y_test, normalized_df_dtc_pred)\n",
        "print(f\"The accuracy score for DTC is: {round(acc,3)*100}%\")\n",
        "\n",
        "# f1 score: The F1 score can be interpreted as a weighted average of the precision and recall, where an F1 score reaches its best value at 1 and worst score at 0.\n",
        "f1 = f1_score(y_test, normalized_df_dtc_pred)\n",
        "print(f\"The f1 score for DTC is: {round(f1,3)*100}%\")\n",
        "\n",
        "# Precision score: When it predicts yes, how often is it correct? Precision=True Positive/predicted yes\n",
        "precision = precision_score(y_test, normalized_df_dtc_pred)\n",
        "print(f\"The precision score for DTC is: {round(precision,3)*100}%\")\n",
        "\n",
        "# recall score: True Positive Rate(Sensitivity or Recall): When it’s actually yes, how often does it predict yes? True Positive Rate = True Positive/actual yes\n",
        "recall = recall_score(y_test, normalized_df_dtc_pred)\n",
        "print(f\"The recall score for DTC is: {round(recall,3)*100}%\")"
      ],
      "metadata": {
        "trusted": true,
        "id": "as9K4ROjeoyC"
      },
      "execution_count": null,
      "outputs": []
    },
    {
      "cell_type": "code",
      "source": [
        "# plotting confusion matrix Decision Tree\n",
        "\n",
        "cnf_matrix_dtc = confusion_matrix(y_test, normalized_df_dtc_pred)\n",
        "\n",
        "sns.heatmap(pd.DataFrame(cnf_matrix_dtc), annot=True,cmap=\"Reds\" , fmt='g')\n",
        "ax.xaxis.set_label_position(\"top\")\n",
        "plt.tight_layout()\n",
        "plt.title('Confusion matrix Decision Tree\\n', y=1.1)\n"
      ],
      "metadata": {
        "trusted": true,
        "id": "Vu26-eSVeoyC"
      },
      "execution_count": null,
      "outputs": []
    },
    {
      "cell_type": "markdown",
      "source": [
        "### 4. KNN"
      ],
      "metadata": {
        "id": "t3tpWBvdeoyD"
      }
    },
    {
      "cell_type": "code",
      "source": [
        "# KNN Model\n",
        "\n",
        "#initialize model\n",
        "knn = KNeighborsClassifier(n_neighbors = 2)\n",
        "\n",
        "#fit model\n",
        "knn.fit(X_train, y_train)\n",
        "\n",
        "# prediction = knn.predict(x_test)\n",
        "normalized_df_knn_pred = knn.predict(X_test)\n",
        "\n",
        "\n",
        "# check accuracy: Accuracy: Overall, how often is the classifier correct? Accuracy = (True Pos + True Negative)/total\n",
        "acc = accuracy_score(y_test, normalized_df_knn_pred)\n",
        "print(f\"The accuracy score for KNN is: {round(acc,3)*100}%\")\n",
        "\n",
        "# f1 score: The F1 score can be interpreted as a weighted average of the precision and recall, where an F1 score reaches its best value at 1 and worst score at 0.\n",
        "f1 = f1_score(y_test, normalized_df_knn_pred)\n",
        "print(f\"The f1 score for KNN is: {round(f1,3)*100}%\")\n",
        "\n",
        "# Precision score: When it predicts yes, how often is it correct? Precision=True Positive/predicted yes\n",
        "precision = precision_score(y_test, normalized_df_knn_pred)\n",
        "print(f\"The precision score for KNN is: {round(precision,3)*100}%\")\n",
        "\n",
        "# recall score: True Positive Rate(Sensitivity or Recall): When it’s actually yes, how often does it predict yes? True Positive Rate = True Positive/actual yes\n",
        "recall = recall_score(y_test, normalized_df_knn_pred)\n",
        "print(f\"The recall score for KNN is: {round(recall,3)*100}%\")"
      ],
      "metadata": {
        "trusted": true,
        "id": "nwELFVQpeoyD"
      },
      "execution_count": null,
      "outputs": []
    },
    {
      "cell_type": "markdown",
      "source": [
        "### Result: The KNN model has the highest accuracy score"
      ],
      "metadata": {
        "id": "vHuT48k_eoyD"
      }
    },
    {
      "cell_type": "code",
      "source": [
        "# Check overfit of the KNN model\n",
        "# accuracy test and train\n",
        "acc_test = knn.score(X_test, y_test)\n",
        "print(\"The accuracy score of the test data is: \",acc_test*100,\"%\")\n",
        "acc_train = knn.score(X_train, y_train)\n",
        "print(\"The accuracy score of the training data is: \",round(acc_train*100,2),\"%\")\n",
        "\n"
      ],
      "metadata": {
        "trusted": true,
        "id": "QTU3T-LLeoyD"
      },
      "execution_count": null,
      "outputs": []
    },
    {
      "cell_type": "markdown",
      "source": [
        "**The scores for test and training data for the KNN model are similar. Therefore we do not expect the model to overfit.**"
      ],
      "metadata": {
        "id": "Q2wZcUmCeoyE"
      }
    },
    {
      "cell_type": "code",
      "source": [
        "# Perform cross validation\n",
        "'''Cross Validation is used to assess the predictive performance of the models and and to judge \n",
        "how they perform outside the sample to a new data set'''\n",
        "\n",
        "cv_results = cross_val_score(knn, X, y, cv=5) \n",
        "\n",
        "print (\"Cross-validated scores:\", cv_results)\n",
        "print(\"The Accuracy of Model with Cross Validation is: {0:.2f}%\".format(cv_results.mean() * 100))"
      ],
      "metadata": {
        "trusted": true,
        "id": "yCeXCjxoeoyE"
      },
      "execution_count": null,
      "outputs": []
    },
    {
      "cell_type": "code",
      "source": [
        "# plotting confusion matrix KNN\n",
        "\n",
        "cnf_matrix_knn = confusion_matrix(y_test, normalized_df_knn_pred)\n",
        "\n",
        "ax= plt.subplot()\n",
        "sns.heatmap(pd.DataFrame(cnf_matrix_knn), annot=True,cmap=\"Reds\" , fmt='g')\n",
        "\n",
        "ax.set_xlabel('Predicted ');ax.set_ylabel('True'); \n"
      ],
      "metadata": {
        "trusted": true,
        "id": "dqDZze1SeoyE"
      },
      "execution_count": null,
      "outputs": []
    },
    {
      "cell_type": "code",
      "source": [
        "# AU ROC CURVE KNN\n",
        "'''the AUC ROC Curve is a measure of performance based on plotting the true positive and false positive rate \n",
        "and calculating the area under that curve.The closer the score to 1 the better the algorithm's ability to \n",
        "distinguish between the two outcome classes.'''\n",
        "\n",
        "fpr, tpr, _ = roc_curve(y_test, normalized_df_knn_pred)\n",
        "auc = roc_auc_score(y_test, normalized_df_knn_pred)\n",
        "plt.plot(fpr,tpr,label=\"data 1, auc=\"+str(auc))\n",
        "plt.legend(loc=4)\n",
        "plt.box(False)\n",
        "plt.title ('ROC CURVE KNN')\n",
        "plt.show()\n",
        "\n",
        "print(f\"The score for the AUC ROC Curve is: {round(auc,3)*100}%\")"
      ],
      "metadata": {
        "trusted": true,
        "id": "C_fMzJs4eoyE"
      },
      "execution_count": null,
      "outputs": []
    },
    {
      "cell_type": "markdown",
      "source": [
        "## Applying the model <a name=\"paragraph7\"></a>"
      ],
      "metadata": {
        "id": "Z3dtoo5NeoyF"
      }
    },
    {
      "cell_type": "code",
      "source": [
        "def start_questionnaire():\n",
        "    my_predictors = []\n",
        "    parameters=['sysBP', 'glucose','age','totChol','cigsPerDay','diaBP','prevalentHyp','diabetes','BPMeds','male']\n",
        "    \n",
        "    print('Input Patient Information:')\n",
        "    \n",
        "    age = input(\"Patient's age: >>> \") \n",
        "    my_predictors.append(age)\n",
        "    male = input(\"Patient's gender. male=1, female=0: >>> \") \n",
        "    my_predictors.append(male)\n",
        "    cigsPerDay = input(\"Patient's smoked cigarettes per day: >>> \") \n",
        "    my_predictors.append(cigsPerDay)\n",
        "    sysBP = input(\"Patient's systolic blood pressure: >>> \") \n",
        "    my_predictors.append(sysBP)\n",
        "    diaBP = input(\"Patient's diastolic blood pressure: >>> \")\n",
        "    my_predictors.append(diaBP)\n",
        "    totChol = input(\"Patient's cholesterin level: >>> \") \n",
        "    my_predictors.append(totChol)\n",
        "    prevalentHyp = input(\"Was Patient hypertensive? Yes=1, No=0 >>> \") \n",
        "    my_predictors.append(prevalentHyp)\n",
        "    diabetes = input(\"Did Patient have diabetes? Yes=1, No=0 >>> \") \n",
        "    my_predictors.append(diabetes)\n",
        "    glucose = input(\"What is the Patient's glucose level? >>> \") \n",
        "    my_predictors.append(diabetes)\n",
        "    BPMeds = input(\"Has Patient been on Blood Pressure Medication? Yes=1, No=0 >>> \")\n",
        "    my_predictors.append(BPMeds)\n",
        "    \n",
        "    my_data = dict(zip(parameters, my_predictors))\n",
        "    my_df = pd.DataFrame(my_data, index=[0])\n",
        "    scaler = MinMaxScaler(feature_range=(0,1)) \n",
        "   \n",
        "    # assign scaler to column:\n",
        "    my_df_scaled = pd.DataFrame(scaler.fit_transform(my_df), columns=my_df.columns)\n",
        "    my_y_pred = knn.predict(my_df)\n",
        "    print('\\n')\n",
        "    print('Result:')\n",
        "    if my_y_pred == 1:\n",
        "        print(\"The patient will develop a Heart Disease.\")\n",
        "    if my_y_pred == 0:\n",
        "        print(\"The patient will not develop a Heart Disease.\")\n",
        "        \n",
        "start_questionnaire()"
      ],
      "metadata": {
        "trusted": true,
        "id": "RUY_ttXXeoyF"
      },
      "execution_count": null,
      "outputs": []
    },
    {
      "cell_type": "code",
      "source": [],
      "metadata": {
        "trusted": true,
        "id": "1foX3QmXeoyF"
      },
      "execution_count": null,
      "outputs": []
    }
  ]
}